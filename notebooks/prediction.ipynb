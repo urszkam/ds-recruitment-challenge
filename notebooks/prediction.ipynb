{
 "cells": [
  {
   "metadata": {},
   "cell_type": "markdown",
   "source": [
    "### 📦 Import bibliotek\n",
    "\n"
   ],
   "id": "cb4c9615c9c142f8"
  },
  {
   "cell_type": "code",
   "id": "initial_id",
   "metadata": {
    "collapsed": true,
    "ExecuteTime": {
     "end_time": "2025-03-25T16:08:35.477251Z",
     "start_time": "2025-03-25T16:08:35.473532Z"
    }
   },
   "source": [
    "import pandas as pd\n",
    "import os\n",
    "import numpy as np"
   ],
   "outputs": [],
   "execution_count": 629
  },
  {
   "metadata": {},
   "cell_type": "markdown",
   "source": [
    "### 📂 Wyszukiwanie plików w katalogu\n",
    "\n",
    "\n"
   ],
   "id": "bd5908f10d9d5bf1"
  },
  {
   "metadata": {
    "ExecuteTime": {
     "end_time": "2025-03-25T16:08:35.518405Z",
     "start_time": "2025-03-25T16:08:35.513258Z"
    }
   },
   "cell_type": "code",
   "source": [
    "files = os.listdir(\"./data\")\n",
    "print(\"Dostępne pliki:\", files)"
   ],
   "id": "4edd5456dd96c73f",
   "outputs": [
    {
     "name": "stdout",
     "output_type": "stream",
     "text": [
      "Dostępne pliki: ['sales_ads_test.csv', 'sales_ads_train.csv', 'sample_submission.csv', 'synthetic_training_data_mostlyai_pl.csv', 'synthetic_training_data_sdv_pl.csv']\n"
     ]
    }
   ],
   "execution_count": 630
  },
  {
   "metadata": {},
   "cell_type": "markdown",
   "source": [
    "### 📥 Wczytywanie pliku ze zbiorem treningowym\n",
    "\n"
   ],
   "id": "acdf4df436d03c67"
  },
  {
   "metadata": {
    "jupyter": {
     "is_executing": true
    }
   },
   "cell_type": "code",
   "source": [
    "train_file = [f for f in files if 'train' in f][0]\n",
    "train_df = pd.read_csv(f\"./data/{train_file}\")"
   ],
   "id": "36323b65114442e3",
   "outputs": [],
   "execution_count": null
  },
  {
   "metadata": {},
   "cell_type": "markdown",
   "source": [
    "### 👀 Podgląd danych – pierwsze wiersze zbioru treningowego\n",
    "- Wyświetlenie pierwszych pięciu wierszy zbioru train_df umożliwia szybkie sprawdzenie efektów dotychczasowych operacji przetwarzania danych. Pozwala to zweryfikować, czy struktura danych, format kolumn oraz zawartość są zgodne z oczekiwaniami przed dalszym modelowaniem.\n",
    "\n",
    "\n"
   ],
   "id": "498ca46a0b399dd3"
  },
  {
   "metadata": {
    "ExecuteTime": {
     "end_time": "2025-03-25T16:08:37.679659Z",
     "start_time": "2025-03-25T16:08:37.666339Z"
    }
   },
   "cell_type": "code",
   "source": "train_df.head()",
   "id": "123ee5f9ec8960f4",
   "outputs": [
    {
     "data": {
      "text/plain": [
       "   ID   Cena Waluta  Stan Marka_pojazdu Model_pojazdu  \\\n",
       "0   1  13900    PLN  Used       Renault  Grand Espace   \n",
       "1   2  25900    PLN  Used       Renault        Megane   \n",
       "2   3  35900    PLN  Used          Opel        Zafira   \n",
       "3   4   5999    PLN  Used          Ford         Focus   \n",
       "4   5  44800    PLN  Used        Toyota       Avensis   \n",
       "\n",
       "                       Wersja_pojazdu Generacja_pojazdu  Rok_produkcji  \\\n",
       "0              Gr 2.0T 16V Expression               NaN         2005.0   \n",
       "1                         1.6 16V 110   III (2008-2016)         2010.0   \n",
       "2  Tourer 1.6 CDTI ecoFLEX Start/Stop     C (2011-2019)         2015.0   \n",
       "3       1.6 TDCi FX Silver / Silver X   Mk2 (2004-2011)         2007.0   \n",
       "4                                 1.8       III (2009-)         2013.0   \n",
       "\n",
       "   Przebieg_km  ...  Skrzynia_biegow   Typ_nadwozia Liczba_drzwi   Kolor  \\\n",
       "0     213000.0  ...           Manual        minivan          5.0    blue   \n",
       "1     117089.0  ...           Manual  station_wagon          5.0  silver   \n",
       "2     115600.0  ...           Manual        minivan          5.0   white   \n",
       "3     218000.0  ...           Manual        compact          5.0    blue   \n",
       "4          NaN  ...           Manual            NaN          4.0   other   \n",
       "\n",
       "  Kraj_pochodzenia Pierwszy_wlasciciel Data_pierwszej_rejestracji  \\\n",
       "0              NaN                 NaN                        NaN   \n",
       "1              NaN                 NaN                 16/06/2010   \n",
       "2          Denmark                 NaN                        NaN   \n",
       "3              NaN                 NaN                 27/11/2007   \n",
       "4           Poland                 Yes                 20/05/2013   \n",
       "\n",
       "   Data_publikacji_oferty                                 Lokalizacja_oferty  \\\n",
       "0              28/04/2021  SŁONECZNA 1 - 99-300 Kutno, kutnowski, Łódzkie...   \n",
       "1              04/05/2021  ul. Wiosenna 8 - 41-407 Imielin, Centrum (Polska)   \n",
       "2              03/05/2021            Sianów, koszaliński, Zachodniopomorskie   \n",
       "3              02/05/2021               Gdańsk, Pomorskie, Przymorze Wielkie   \n",
       "4              02/05/2021                      Świdnik, świdnicki, Lubelskie   \n",
       "\n",
       "                                         Wyposazenie  \n",
       "0  ['ABS', 'Electric front windows', 'Drivers air...  \n",
       "1  ['ABS', 'Electric front windows', 'Drivers air...  \n",
       "2  ['ABS', 'Electric front windows', 'Passengers ...  \n",
       "3  ['ABS', 'Electric front windows', 'Drivers air...  \n",
       "4  ['ABS', 'Electric front windows', 'Drivers air...  \n",
       "\n",
       "[5 rows x 25 columns]"
      ],
      "text/html": [
       "<div>\n",
       "<style scoped>\n",
       "    .dataframe tbody tr th:only-of-type {\n",
       "        vertical-align: middle;\n",
       "    }\n",
       "\n",
       "    .dataframe tbody tr th {\n",
       "        vertical-align: top;\n",
       "    }\n",
       "\n",
       "    .dataframe thead th {\n",
       "        text-align: right;\n",
       "    }\n",
       "</style>\n",
       "<table border=\"1\" class=\"dataframe\">\n",
       "  <thead>\n",
       "    <tr style=\"text-align: right;\">\n",
       "      <th></th>\n",
       "      <th>ID</th>\n",
       "      <th>Cena</th>\n",
       "      <th>Waluta</th>\n",
       "      <th>Stan</th>\n",
       "      <th>Marka_pojazdu</th>\n",
       "      <th>Model_pojazdu</th>\n",
       "      <th>Wersja_pojazdu</th>\n",
       "      <th>Generacja_pojazdu</th>\n",
       "      <th>Rok_produkcji</th>\n",
       "      <th>Przebieg_km</th>\n",
       "      <th>...</th>\n",
       "      <th>Skrzynia_biegow</th>\n",
       "      <th>Typ_nadwozia</th>\n",
       "      <th>Liczba_drzwi</th>\n",
       "      <th>Kolor</th>\n",
       "      <th>Kraj_pochodzenia</th>\n",
       "      <th>Pierwszy_wlasciciel</th>\n",
       "      <th>Data_pierwszej_rejestracji</th>\n",
       "      <th>Data_publikacji_oferty</th>\n",
       "      <th>Lokalizacja_oferty</th>\n",
       "      <th>Wyposazenie</th>\n",
       "    </tr>\n",
       "  </thead>\n",
       "  <tbody>\n",
       "    <tr>\n",
       "      <th>0</th>\n",
       "      <td>1</td>\n",
       "      <td>13900</td>\n",
       "      <td>PLN</td>\n",
       "      <td>Used</td>\n",
       "      <td>Renault</td>\n",
       "      <td>Grand Espace</td>\n",
       "      <td>Gr 2.0T 16V Expression</td>\n",
       "      <td>NaN</td>\n",
       "      <td>2005.0</td>\n",
       "      <td>213000.0</td>\n",
       "      <td>...</td>\n",
       "      <td>Manual</td>\n",
       "      <td>minivan</td>\n",
       "      <td>5.0</td>\n",
       "      <td>blue</td>\n",
       "      <td>NaN</td>\n",
       "      <td>NaN</td>\n",
       "      <td>NaN</td>\n",
       "      <td>28/04/2021</td>\n",
       "      <td>SŁONECZNA 1 - 99-300 Kutno, kutnowski, Łódzkie...</td>\n",
       "      <td>['ABS', 'Electric front windows', 'Drivers air...</td>\n",
       "    </tr>\n",
       "    <tr>\n",
       "      <th>1</th>\n",
       "      <td>2</td>\n",
       "      <td>25900</td>\n",
       "      <td>PLN</td>\n",
       "      <td>Used</td>\n",
       "      <td>Renault</td>\n",
       "      <td>Megane</td>\n",
       "      <td>1.6 16V 110</td>\n",
       "      <td>III (2008-2016)</td>\n",
       "      <td>2010.0</td>\n",
       "      <td>117089.0</td>\n",
       "      <td>...</td>\n",
       "      <td>Manual</td>\n",
       "      <td>station_wagon</td>\n",
       "      <td>5.0</td>\n",
       "      <td>silver</td>\n",
       "      <td>NaN</td>\n",
       "      <td>NaN</td>\n",
       "      <td>16/06/2010</td>\n",
       "      <td>04/05/2021</td>\n",
       "      <td>ul. Wiosenna 8 - 41-407 Imielin, Centrum (Polska)</td>\n",
       "      <td>['ABS', 'Electric front windows', 'Drivers air...</td>\n",
       "    </tr>\n",
       "    <tr>\n",
       "      <th>2</th>\n",
       "      <td>3</td>\n",
       "      <td>35900</td>\n",
       "      <td>PLN</td>\n",
       "      <td>Used</td>\n",
       "      <td>Opel</td>\n",
       "      <td>Zafira</td>\n",
       "      <td>Tourer 1.6 CDTI ecoFLEX Start/Stop</td>\n",
       "      <td>C (2011-2019)</td>\n",
       "      <td>2015.0</td>\n",
       "      <td>115600.0</td>\n",
       "      <td>...</td>\n",
       "      <td>Manual</td>\n",
       "      <td>minivan</td>\n",
       "      <td>5.0</td>\n",
       "      <td>white</td>\n",
       "      <td>Denmark</td>\n",
       "      <td>NaN</td>\n",
       "      <td>NaN</td>\n",
       "      <td>03/05/2021</td>\n",
       "      <td>Sianów, koszaliński, Zachodniopomorskie</td>\n",
       "      <td>['ABS', 'Electric front windows', 'Passengers ...</td>\n",
       "    </tr>\n",
       "    <tr>\n",
       "      <th>3</th>\n",
       "      <td>4</td>\n",
       "      <td>5999</td>\n",
       "      <td>PLN</td>\n",
       "      <td>Used</td>\n",
       "      <td>Ford</td>\n",
       "      <td>Focus</td>\n",
       "      <td>1.6 TDCi FX Silver / Silver X</td>\n",
       "      <td>Mk2 (2004-2011)</td>\n",
       "      <td>2007.0</td>\n",
       "      <td>218000.0</td>\n",
       "      <td>...</td>\n",
       "      <td>Manual</td>\n",
       "      <td>compact</td>\n",
       "      <td>5.0</td>\n",
       "      <td>blue</td>\n",
       "      <td>NaN</td>\n",
       "      <td>NaN</td>\n",
       "      <td>27/11/2007</td>\n",
       "      <td>02/05/2021</td>\n",
       "      <td>Gdańsk, Pomorskie, Przymorze Wielkie</td>\n",
       "      <td>['ABS', 'Electric front windows', 'Drivers air...</td>\n",
       "    </tr>\n",
       "    <tr>\n",
       "      <th>4</th>\n",
       "      <td>5</td>\n",
       "      <td>44800</td>\n",
       "      <td>PLN</td>\n",
       "      <td>Used</td>\n",
       "      <td>Toyota</td>\n",
       "      <td>Avensis</td>\n",
       "      <td>1.8</td>\n",
       "      <td>III (2009-)</td>\n",
       "      <td>2013.0</td>\n",
       "      <td>NaN</td>\n",
       "      <td>...</td>\n",
       "      <td>Manual</td>\n",
       "      <td>NaN</td>\n",
       "      <td>4.0</td>\n",
       "      <td>other</td>\n",
       "      <td>Poland</td>\n",
       "      <td>Yes</td>\n",
       "      <td>20/05/2013</td>\n",
       "      <td>02/05/2021</td>\n",
       "      <td>Świdnik, świdnicki, Lubelskie</td>\n",
       "      <td>['ABS', 'Electric front windows', 'Drivers air...</td>\n",
       "    </tr>\n",
       "  </tbody>\n",
       "</table>\n",
       "<p>5 rows × 25 columns</p>\n",
       "</div>"
      ]
     },
     "execution_count": 632,
     "metadata": {},
     "output_type": "execute_result"
    }
   ],
   "execution_count": 632
  },
  {
   "metadata": {},
   "cell_type": "markdown",
   "source": [
    "### 🧹 Usunięcie zbędnych kolumn ze zbioru treningowego\n",
    "- Ze zbioru danych usunięto kolumny zawierające dane techniczne, identyfikatory oraz informacje datowe, które nie są bezpośrednio użyteczne w procesie predykcji lub zawierają zbyt dużo braków. Upraszcza to strukturę danych, eliminuje szum informacyjny i koncentruje model na cechach istotnych dla przewidywania ceny pojazdu.\n"
   ],
   "id": "77240368ad364887"
  },
  {
   "metadata": {
    "ExecuteTime": {
     "end_time": "2025-03-25T16:08:37.859268Z",
     "start_time": "2025-03-25T16:08:37.844239Z"
    }
   },
   "cell_type": "code",
   "source": "train_df.drop(columns=['ID','Data_pierwszej_rejestracji','Emisja_CO2','Wersja_pojazdu','Generacja_pojazdu','Kraj_pochodzenia','Data_publikacji_oferty'], inplace=True)\n",
   "id": "2f9f60f577dea016",
   "outputs": [],
   "execution_count": 633
  },
  {
   "metadata": {
    "ExecuteTime": {
     "end_time": "2025-03-25T16:08:37.927048Z",
     "start_time": "2025-03-25T16:08:37.913747Z"
    }
   },
   "cell_type": "code",
   "source": "train_df.head()",
   "id": "8197a1f9f46ba0d5",
   "outputs": [
    {
     "data": {
      "text/plain": [
       "    Cena Waluta  Stan Marka_pojazdu Model_pojazdu  Rok_produkcji  Przebieg_km  \\\n",
       "0  13900    PLN  Used       Renault  Grand Espace         2005.0     213000.0   \n",
       "1  25900    PLN  Used       Renault        Megane         2010.0     117089.0   \n",
       "2  35900    PLN  Used          Opel        Zafira         2015.0     115600.0   \n",
       "3   5999    PLN  Used          Ford         Focus         2007.0     218000.0   \n",
       "4  44800    PLN  Used        Toyota       Avensis         2013.0          NaN   \n",
       "\n",
       "   Moc_KM  Pojemnosc_cm3 Rodzaj_paliwa         Naped Skrzynia_biegow  \\\n",
       "0   170.0         1998.0      Gasoline  Front wheels          Manual   \n",
       "1   110.0         1598.0      Gasoline  Front wheels          Manual   \n",
       "2   136.0         1598.0           NaN           NaN          Manual   \n",
       "3    90.0         1560.0        Diesel  Front wheels          Manual   \n",
       "4     NaN         1798.0      Gasoline  Front wheels          Manual   \n",
       "\n",
       "    Typ_nadwozia  Liczba_drzwi   Kolor Pierwszy_wlasciciel  \\\n",
       "0        minivan           5.0    blue                 NaN   \n",
       "1  station_wagon           5.0  silver                 NaN   \n",
       "2        minivan           5.0   white                 NaN   \n",
       "3        compact           5.0    blue                 NaN   \n",
       "4            NaN           4.0   other                 Yes   \n",
       "\n",
       "                                  Lokalizacja_oferty  \\\n",
       "0  SŁONECZNA 1 - 99-300 Kutno, kutnowski, Łódzkie...   \n",
       "1  ul. Wiosenna 8 - 41-407 Imielin, Centrum (Polska)   \n",
       "2            Sianów, koszaliński, Zachodniopomorskie   \n",
       "3               Gdańsk, Pomorskie, Przymorze Wielkie   \n",
       "4                      Świdnik, świdnicki, Lubelskie   \n",
       "\n",
       "                                         Wyposazenie  \n",
       "0  ['ABS', 'Electric front windows', 'Drivers air...  \n",
       "1  ['ABS', 'Electric front windows', 'Drivers air...  \n",
       "2  ['ABS', 'Electric front windows', 'Passengers ...  \n",
       "3  ['ABS', 'Electric front windows', 'Drivers air...  \n",
       "4  ['ABS', 'Electric front windows', 'Drivers air...  "
      ],
      "text/html": [
       "<div>\n",
       "<style scoped>\n",
       "    .dataframe tbody tr th:only-of-type {\n",
       "        vertical-align: middle;\n",
       "    }\n",
       "\n",
       "    .dataframe tbody tr th {\n",
       "        vertical-align: top;\n",
       "    }\n",
       "\n",
       "    .dataframe thead th {\n",
       "        text-align: right;\n",
       "    }\n",
       "</style>\n",
       "<table border=\"1\" class=\"dataframe\">\n",
       "  <thead>\n",
       "    <tr style=\"text-align: right;\">\n",
       "      <th></th>\n",
       "      <th>Cena</th>\n",
       "      <th>Waluta</th>\n",
       "      <th>Stan</th>\n",
       "      <th>Marka_pojazdu</th>\n",
       "      <th>Model_pojazdu</th>\n",
       "      <th>Rok_produkcji</th>\n",
       "      <th>Przebieg_km</th>\n",
       "      <th>Moc_KM</th>\n",
       "      <th>Pojemnosc_cm3</th>\n",
       "      <th>Rodzaj_paliwa</th>\n",
       "      <th>Naped</th>\n",
       "      <th>Skrzynia_biegow</th>\n",
       "      <th>Typ_nadwozia</th>\n",
       "      <th>Liczba_drzwi</th>\n",
       "      <th>Kolor</th>\n",
       "      <th>Pierwszy_wlasciciel</th>\n",
       "      <th>Lokalizacja_oferty</th>\n",
       "      <th>Wyposazenie</th>\n",
       "    </tr>\n",
       "  </thead>\n",
       "  <tbody>\n",
       "    <tr>\n",
       "      <th>0</th>\n",
       "      <td>13900</td>\n",
       "      <td>PLN</td>\n",
       "      <td>Used</td>\n",
       "      <td>Renault</td>\n",
       "      <td>Grand Espace</td>\n",
       "      <td>2005.0</td>\n",
       "      <td>213000.0</td>\n",
       "      <td>170.0</td>\n",
       "      <td>1998.0</td>\n",
       "      <td>Gasoline</td>\n",
       "      <td>Front wheels</td>\n",
       "      <td>Manual</td>\n",
       "      <td>minivan</td>\n",
       "      <td>5.0</td>\n",
       "      <td>blue</td>\n",
       "      <td>NaN</td>\n",
       "      <td>SŁONECZNA 1 - 99-300 Kutno, kutnowski, Łódzkie...</td>\n",
       "      <td>['ABS', 'Electric front windows', 'Drivers air...</td>\n",
       "    </tr>\n",
       "    <tr>\n",
       "      <th>1</th>\n",
       "      <td>25900</td>\n",
       "      <td>PLN</td>\n",
       "      <td>Used</td>\n",
       "      <td>Renault</td>\n",
       "      <td>Megane</td>\n",
       "      <td>2010.0</td>\n",
       "      <td>117089.0</td>\n",
       "      <td>110.0</td>\n",
       "      <td>1598.0</td>\n",
       "      <td>Gasoline</td>\n",
       "      <td>Front wheels</td>\n",
       "      <td>Manual</td>\n",
       "      <td>station_wagon</td>\n",
       "      <td>5.0</td>\n",
       "      <td>silver</td>\n",
       "      <td>NaN</td>\n",
       "      <td>ul. Wiosenna 8 - 41-407 Imielin, Centrum (Polska)</td>\n",
       "      <td>['ABS', 'Electric front windows', 'Drivers air...</td>\n",
       "    </tr>\n",
       "    <tr>\n",
       "      <th>2</th>\n",
       "      <td>35900</td>\n",
       "      <td>PLN</td>\n",
       "      <td>Used</td>\n",
       "      <td>Opel</td>\n",
       "      <td>Zafira</td>\n",
       "      <td>2015.0</td>\n",
       "      <td>115600.0</td>\n",
       "      <td>136.0</td>\n",
       "      <td>1598.0</td>\n",
       "      <td>NaN</td>\n",
       "      <td>NaN</td>\n",
       "      <td>Manual</td>\n",
       "      <td>minivan</td>\n",
       "      <td>5.0</td>\n",
       "      <td>white</td>\n",
       "      <td>NaN</td>\n",
       "      <td>Sianów, koszaliński, Zachodniopomorskie</td>\n",
       "      <td>['ABS', 'Electric front windows', 'Passengers ...</td>\n",
       "    </tr>\n",
       "    <tr>\n",
       "      <th>3</th>\n",
       "      <td>5999</td>\n",
       "      <td>PLN</td>\n",
       "      <td>Used</td>\n",
       "      <td>Ford</td>\n",
       "      <td>Focus</td>\n",
       "      <td>2007.0</td>\n",
       "      <td>218000.0</td>\n",
       "      <td>90.0</td>\n",
       "      <td>1560.0</td>\n",
       "      <td>Diesel</td>\n",
       "      <td>Front wheels</td>\n",
       "      <td>Manual</td>\n",
       "      <td>compact</td>\n",
       "      <td>5.0</td>\n",
       "      <td>blue</td>\n",
       "      <td>NaN</td>\n",
       "      <td>Gdańsk, Pomorskie, Przymorze Wielkie</td>\n",
       "      <td>['ABS', 'Electric front windows', 'Drivers air...</td>\n",
       "    </tr>\n",
       "    <tr>\n",
       "      <th>4</th>\n",
       "      <td>44800</td>\n",
       "      <td>PLN</td>\n",
       "      <td>Used</td>\n",
       "      <td>Toyota</td>\n",
       "      <td>Avensis</td>\n",
       "      <td>2013.0</td>\n",
       "      <td>NaN</td>\n",
       "      <td>NaN</td>\n",
       "      <td>1798.0</td>\n",
       "      <td>Gasoline</td>\n",
       "      <td>Front wheels</td>\n",
       "      <td>Manual</td>\n",
       "      <td>NaN</td>\n",
       "      <td>4.0</td>\n",
       "      <td>other</td>\n",
       "      <td>Yes</td>\n",
       "      <td>Świdnik, świdnicki, Lubelskie</td>\n",
       "      <td>['ABS', 'Electric front windows', 'Drivers air...</td>\n",
       "    </tr>\n",
       "  </tbody>\n",
       "</table>\n",
       "</div>"
      ]
     },
     "execution_count": 634,
     "metadata": {},
     "output_type": "execute_result"
    }
   ],
   "execution_count": 634
  },
  {
   "metadata": {},
   "cell_type": "markdown",
   "source": [
    "### 💶 Ujednolicenie waluty\n",
    "- Wszystkie ceny wyrażone w euro zostały przeliczone na złotówki według ustalonego kursu 1 EUR = 4.5654 PLN. Następnie waluta została oznaczona jako PLN, co zapewnia spójność jednostek w kolumnie Cena i eliminuje konieczność uwzględniania waluty jako zmiennej w dalszym modelowaniu."
   ],
   "id": "a49e7f1279411760"
  },
  {
   "metadata": {
    "ExecuteTime": {
     "end_time": "2025-03-25T16:08:38.192582Z",
     "start_time": "2025-03-25T16:08:38.168026Z"
    }
   },
   "cell_type": "code",
   "source": [
    "kurs_eur_pln = 4.5654\n",
    "\n",
    "train_df.loc[train_df['Waluta'] == 'EUR', 'Cena'] = (\n",
    "    train_df.loc[train_df['Waluta'] == 'EUR', 'Cena'] * kurs_eur_pln\n",
    ").astype(int)\n",
    "train_df.loc[train_df['Waluta'] == 'EUR', 'Waluta'] = 'PLN'"
   ],
   "id": "440294043ebe5e55",
   "outputs": [],
   "execution_count": 635
  },
  {
   "metadata": {},
   "cell_type": "markdown",
   "source": [
    "### Usunięcie kolumny Waluta\n",
    "- nie jest potrzebna ponieważ przeliczono na jedną walute"
   ],
   "id": "8b247c0e5eeeba55"
  },
  {
   "metadata": {
    "ExecuteTime": {
     "end_time": "2025-03-25T16:08:38.320901Z",
     "start_time": "2025-03-25T16:08:38.305576Z"
    }
   },
   "cell_type": "code",
   "source": "train_df.drop(columns=['Waluta'], inplace=True)",
   "id": "d89dd00cec46a12c",
   "outputs": [],
   "execution_count": 636
  },
  {
   "metadata": {
    "ExecuteTime": {
     "end_time": "2025-03-25T16:08:38.511062Z",
     "start_time": "2025-03-25T16:08:38.495910Z"
    }
   },
   "cell_type": "code",
   "source": "train_df.head()",
   "id": "5a4f011e64416348",
   "outputs": [
    {
     "data": {
      "text/plain": [
       "    Cena  Stan Marka_pojazdu Model_pojazdu  Rok_produkcji  Przebieg_km  \\\n",
       "0  13900  Used       Renault  Grand Espace         2005.0     213000.0   \n",
       "1  25900  Used       Renault        Megane         2010.0     117089.0   \n",
       "2  35900  Used          Opel        Zafira         2015.0     115600.0   \n",
       "3   5999  Used          Ford         Focus         2007.0     218000.0   \n",
       "4  44800  Used        Toyota       Avensis         2013.0          NaN   \n",
       "\n",
       "   Moc_KM  Pojemnosc_cm3 Rodzaj_paliwa         Naped Skrzynia_biegow  \\\n",
       "0   170.0         1998.0      Gasoline  Front wheels          Manual   \n",
       "1   110.0         1598.0      Gasoline  Front wheels          Manual   \n",
       "2   136.0         1598.0           NaN           NaN          Manual   \n",
       "3    90.0         1560.0        Diesel  Front wheels          Manual   \n",
       "4     NaN         1798.0      Gasoline  Front wheels          Manual   \n",
       "\n",
       "    Typ_nadwozia  Liczba_drzwi   Kolor Pierwszy_wlasciciel  \\\n",
       "0        minivan           5.0    blue                 NaN   \n",
       "1  station_wagon           5.0  silver                 NaN   \n",
       "2        minivan           5.0   white                 NaN   \n",
       "3        compact           5.0    blue                 NaN   \n",
       "4            NaN           4.0   other                 Yes   \n",
       "\n",
       "                                  Lokalizacja_oferty  \\\n",
       "0  SŁONECZNA 1 - 99-300 Kutno, kutnowski, Łódzkie...   \n",
       "1  ul. Wiosenna 8 - 41-407 Imielin, Centrum (Polska)   \n",
       "2            Sianów, koszaliński, Zachodniopomorskie   \n",
       "3               Gdańsk, Pomorskie, Przymorze Wielkie   \n",
       "4                      Świdnik, świdnicki, Lubelskie   \n",
       "\n",
       "                                         Wyposazenie  \n",
       "0  ['ABS', 'Electric front windows', 'Drivers air...  \n",
       "1  ['ABS', 'Electric front windows', 'Drivers air...  \n",
       "2  ['ABS', 'Electric front windows', 'Passengers ...  \n",
       "3  ['ABS', 'Electric front windows', 'Drivers air...  \n",
       "4  ['ABS', 'Electric front windows', 'Drivers air...  "
      ],
      "text/html": [
       "<div>\n",
       "<style scoped>\n",
       "    .dataframe tbody tr th:only-of-type {\n",
       "        vertical-align: middle;\n",
       "    }\n",
       "\n",
       "    .dataframe tbody tr th {\n",
       "        vertical-align: top;\n",
       "    }\n",
       "\n",
       "    .dataframe thead th {\n",
       "        text-align: right;\n",
       "    }\n",
       "</style>\n",
       "<table border=\"1\" class=\"dataframe\">\n",
       "  <thead>\n",
       "    <tr style=\"text-align: right;\">\n",
       "      <th></th>\n",
       "      <th>Cena</th>\n",
       "      <th>Stan</th>\n",
       "      <th>Marka_pojazdu</th>\n",
       "      <th>Model_pojazdu</th>\n",
       "      <th>Rok_produkcji</th>\n",
       "      <th>Przebieg_km</th>\n",
       "      <th>Moc_KM</th>\n",
       "      <th>Pojemnosc_cm3</th>\n",
       "      <th>Rodzaj_paliwa</th>\n",
       "      <th>Naped</th>\n",
       "      <th>Skrzynia_biegow</th>\n",
       "      <th>Typ_nadwozia</th>\n",
       "      <th>Liczba_drzwi</th>\n",
       "      <th>Kolor</th>\n",
       "      <th>Pierwszy_wlasciciel</th>\n",
       "      <th>Lokalizacja_oferty</th>\n",
       "      <th>Wyposazenie</th>\n",
       "    </tr>\n",
       "  </thead>\n",
       "  <tbody>\n",
       "    <tr>\n",
       "      <th>0</th>\n",
       "      <td>13900</td>\n",
       "      <td>Used</td>\n",
       "      <td>Renault</td>\n",
       "      <td>Grand Espace</td>\n",
       "      <td>2005.0</td>\n",
       "      <td>213000.0</td>\n",
       "      <td>170.0</td>\n",
       "      <td>1998.0</td>\n",
       "      <td>Gasoline</td>\n",
       "      <td>Front wheels</td>\n",
       "      <td>Manual</td>\n",
       "      <td>minivan</td>\n",
       "      <td>5.0</td>\n",
       "      <td>blue</td>\n",
       "      <td>NaN</td>\n",
       "      <td>SŁONECZNA 1 - 99-300 Kutno, kutnowski, Łódzkie...</td>\n",
       "      <td>['ABS', 'Electric front windows', 'Drivers air...</td>\n",
       "    </tr>\n",
       "    <tr>\n",
       "      <th>1</th>\n",
       "      <td>25900</td>\n",
       "      <td>Used</td>\n",
       "      <td>Renault</td>\n",
       "      <td>Megane</td>\n",
       "      <td>2010.0</td>\n",
       "      <td>117089.0</td>\n",
       "      <td>110.0</td>\n",
       "      <td>1598.0</td>\n",
       "      <td>Gasoline</td>\n",
       "      <td>Front wheels</td>\n",
       "      <td>Manual</td>\n",
       "      <td>station_wagon</td>\n",
       "      <td>5.0</td>\n",
       "      <td>silver</td>\n",
       "      <td>NaN</td>\n",
       "      <td>ul. Wiosenna 8 - 41-407 Imielin, Centrum (Polska)</td>\n",
       "      <td>['ABS', 'Electric front windows', 'Drivers air...</td>\n",
       "    </tr>\n",
       "    <tr>\n",
       "      <th>2</th>\n",
       "      <td>35900</td>\n",
       "      <td>Used</td>\n",
       "      <td>Opel</td>\n",
       "      <td>Zafira</td>\n",
       "      <td>2015.0</td>\n",
       "      <td>115600.0</td>\n",
       "      <td>136.0</td>\n",
       "      <td>1598.0</td>\n",
       "      <td>NaN</td>\n",
       "      <td>NaN</td>\n",
       "      <td>Manual</td>\n",
       "      <td>minivan</td>\n",
       "      <td>5.0</td>\n",
       "      <td>white</td>\n",
       "      <td>NaN</td>\n",
       "      <td>Sianów, koszaliński, Zachodniopomorskie</td>\n",
       "      <td>['ABS', 'Electric front windows', 'Passengers ...</td>\n",
       "    </tr>\n",
       "    <tr>\n",
       "      <th>3</th>\n",
       "      <td>5999</td>\n",
       "      <td>Used</td>\n",
       "      <td>Ford</td>\n",
       "      <td>Focus</td>\n",
       "      <td>2007.0</td>\n",
       "      <td>218000.0</td>\n",
       "      <td>90.0</td>\n",
       "      <td>1560.0</td>\n",
       "      <td>Diesel</td>\n",
       "      <td>Front wheels</td>\n",
       "      <td>Manual</td>\n",
       "      <td>compact</td>\n",
       "      <td>5.0</td>\n",
       "      <td>blue</td>\n",
       "      <td>NaN</td>\n",
       "      <td>Gdańsk, Pomorskie, Przymorze Wielkie</td>\n",
       "      <td>['ABS', 'Electric front windows', 'Drivers air...</td>\n",
       "    </tr>\n",
       "    <tr>\n",
       "      <th>4</th>\n",
       "      <td>44800</td>\n",
       "      <td>Used</td>\n",
       "      <td>Toyota</td>\n",
       "      <td>Avensis</td>\n",
       "      <td>2013.0</td>\n",
       "      <td>NaN</td>\n",
       "      <td>NaN</td>\n",
       "      <td>1798.0</td>\n",
       "      <td>Gasoline</td>\n",
       "      <td>Front wheels</td>\n",
       "      <td>Manual</td>\n",
       "      <td>NaN</td>\n",
       "      <td>4.0</td>\n",
       "      <td>other</td>\n",
       "      <td>Yes</td>\n",
       "      <td>Świdnik, świdnicki, Lubelskie</td>\n",
       "      <td>['ABS', 'Electric front windows', 'Drivers air...</td>\n",
       "    </tr>\n",
       "  </tbody>\n",
       "</table>\n",
       "</div>"
      ]
     },
     "execution_count": 637,
     "metadata": {},
     "output_type": "execute_result"
    }
   ],
   "execution_count": 637
  },
  {
   "metadata": {},
   "cell_type": "markdown",
   "source": [
    "### 👤 Kodowanie informacji o pierwszym właścicielu\n",
    "- Kolumna Pierwszy_wlasciciel została zakodowana binarnie: wartość Yes zamieniono na 1, natomiast brakujące dane i inne wartości oznaczono jako 0. Dzięki temu model może łatwo wykorzystać tę informację jako cechę logiczną, bez konieczności przetwarzania danych tekstowych."
   ],
   "id": "d742dc0d929bc39b"
  },
  {
   "metadata": {
    "ExecuteTime": {
     "end_time": "2025-03-25T16:08:38.651781Z",
     "start_time": "2025-03-25T16:08:38.640402Z"
    }
   },
   "cell_type": "code",
   "source": "train_df['Pierwszy_wlasciciel'] = train_df['Pierwszy_wlasciciel'].map({'Yes': 1}).fillna(0).astype(int)",
   "id": "c5bca2f166eacf3f",
   "outputs": [],
   "execution_count": 638
  },
  {
   "metadata": {
    "ExecuteTime": {
     "end_time": "2025-03-25T16:08:38.760938Z",
     "start_time": "2025-03-25T16:08:38.748109Z"
    }
   },
   "cell_type": "code",
   "source": "train_df.head()",
   "id": "7841345ee6c92df5",
   "outputs": [
    {
     "data": {
      "text/plain": [
       "    Cena  Stan Marka_pojazdu Model_pojazdu  Rok_produkcji  Przebieg_km  \\\n",
       "0  13900  Used       Renault  Grand Espace         2005.0     213000.0   \n",
       "1  25900  Used       Renault        Megane         2010.0     117089.0   \n",
       "2  35900  Used          Opel        Zafira         2015.0     115600.0   \n",
       "3   5999  Used          Ford         Focus         2007.0     218000.0   \n",
       "4  44800  Used        Toyota       Avensis         2013.0          NaN   \n",
       "\n",
       "   Moc_KM  Pojemnosc_cm3 Rodzaj_paliwa         Naped Skrzynia_biegow  \\\n",
       "0   170.0         1998.0      Gasoline  Front wheels          Manual   \n",
       "1   110.0         1598.0      Gasoline  Front wheels          Manual   \n",
       "2   136.0         1598.0           NaN           NaN          Manual   \n",
       "3    90.0         1560.0        Diesel  Front wheels          Manual   \n",
       "4     NaN         1798.0      Gasoline  Front wheels          Manual   \n",
       "\n",
       "    Typ_nadwozia  Liczba_drzwi   Kolor  Pierwszy_wlasciciel  \\\n",
       "0        minivan           5.0    blue                    0   \n",
       "1  station_wagon           5.0  silver                    0   \n",
       "2        minivan           5.0   white                    0   \n",
       "3        compact           5.0    blue                    0   \n",
       "4            NaN           4.0   other                    1   \n",
       "\n",
       "                                  Lokalizacja_oferty  \\\n",
       "0  SŁONECZNA 1 - 99-300 Kutno, kutnowski, Łódzkie...   \n",
       "1  ul. Wiosenna 8 - 41-407 Imielin, Centrum (Polska)   \n",
       "2            Sianów, koszaliński, Zachodniopomorskie   \n",
       "3               Gdańsk, Pomorskie, Przymorze Wielkie   \n",
       "4                      Świdnik, świdnicki, Lubelskie   \n",
       "\n",
       "                                         Wyposazenie  \n",
       "0  ['ABS', 'Electric front windows', 'Drivers air...  \n",
       "1  ['ABS', 'Electric front windows', 'Drivers air...  \n",
       "2  ['ABS', 'Electric front windows', 'Passengers ...  \n",
       "3  ['ABS', 'Electric front windows', 'Drivers air...  \n",
       "4  ['ABS', 'Electric front windows', 'Drivers air...  "
      ],
      "text/html": [
       "<div>\n",
       "<style scoped>\n",
       "    .dataframe tbody tr th:only-of-type {\n",
       "        vertical-align: middle;\n",
       "    }\n",
       "\n",
       "    .dataframe tbody tr th {\n",
       "        vertical-align: top;\n",
       "    }\n",
       "\n",
       "    .dataframe thead th {\n",
       "        text-align: right;\n",
       "    }\n",
       "</style>\n",
       "<table border=\"1\" class=\"dataframe\">\n",
       "  <thead>\n",
       "    <tr style=\"text-align: right;\">\n",
       "      <th></th>\n",
       "      <th>Cena</th>\n",
       "      <th>Stan</th>\n",
       "      <th>Marka_pojazdu</th>\n",
       "      <th>Model_pojazdu</th>\n",
       "      <th>Rok_produkcji</th>\n",
       "      <th>Przebieg_km</th>\n",
       "      <th>Moc_KM</th>\n",
       "      <th>Pojemnosc_cm3</th>\n",
       "      <th>Rodzaj_paliwa</th>\n",
       "      <th>Naped</th>\n",
       "      <th>Skrzynia_biegow</th>\n",
       "      <th>Typ_nadwozia</th>\n",
       "      <th>Liczba_drzwi</th>\n",
       "      <th>Kolor</th>\n",
       "      <th>Pierwszy_wlasciciel</th>\n",
       "      <th>Lokalizacja_oferty</th>\n",
       "      <th>Wyposazenie</th>\n",
       "    </tr>\n",
       "  </thead>\n",
       "  <tbody>\n",
       "    <tr>\n",
       "      <th>0</th>\n",
       "      <td>13900</td>\n",
       "      <td>Used</td>\n",
       "      <td>Renault</td>\n",
       "      <td>Grand Espace</td>\n",
       "      <td>2005.0</td>\n",
       "      <td>213000.0</td>\n",
       "      <td>170.0</td>\n",
       "      <td>1998.0</td>\n",
       "      <td>Gasoline</td>\n",
       "      <td>Front wheels</td>\n",
       "      <td>Manual</td>\n",
       "      <td>minivan</td>\n",
       "      <td>5.0</td>\n",
       "      <td>blue</td>\n",
       "      <td>0</td>\n",
       "      <td>SŁONECZNA 1 - 99-300 Kutno, kutnowski, Łódzkie...</td>\n",
       "      <td>['ABS', 'Electric front windows', 'Drivers air...</td>\n",
       "    </tr>\n",
       "    <tr>\n",
       "      <th>1</th>\n",
       "      <td>25900</td>\n",
       "      <td>Used</td>\n",
       "      <td>Renault</td>\n",
       "      <td>Megane</td>\n",
       "      <td>2010.0</td>\n",
       "      <td>117089.0</td>\n",
       "      <td>110.0</td>\n",
       "      <td>1598.0</td>\n",
       "      <td>Gasoline</td>\n",
       "      <td>Front wheels</td>\n",
       "      <td>Manual</td>\n",
       "      <td>station_wagon</td>\n",
       "      <td>5.0</td>\n",
       "      <td>silver</td>\n",
       "      <td>0</td>\n",
       "      <td>ul. Wiosenna 8 - 41-407 Imielin, Centrum (Polska)</td>\n",
       "      <td>['ABS', 'Electric front windows', 'Drivers air...</td>\n",
       "    </tr>\n",
       "    <tr>\n",
       "      <th>2</th>\n",
       "      <td>35900</td>\n",
       "      <td>Used</td>\n",
       "      <td>Opel</td>\n",
       "      <td>Zafira</td>\n",
       "      <td>2015.0</td>\n",
       "      <td>115600.0</td>\n",
       "      <td>136.0</td>\n",
       "      <td>1598.0</td>\n",
       "      <td>NaN</td>\n",
       "      <td>NaN</td>\n",
       "      <td>Manual</td>\n",
       "      <td>minivan</td>\n",
       "      <td>5.0</td>\n",
       "      <td>white</td>\n",
       "      <td>0</td>\n",
       "      <td>Sianów, koszaliński, Zachodniopomorskie</td>\n",
       "      <td>['ABS', 'Electric front windows', 'Passengers ...</td>\n",
       "    </tr>\n",
       "    <tr>\n",
       "      <th>3</th>\n",
       "      <td>5999</td>\n",
       "      <td>Used</td>\n",
       "      <td>Ford</td>\n",
       "      <td>Focus</td>\n",
       "      <td>2007.0</td>\n",
       "      <td>218000.0</td>\n",
       "      <td>90.0</td>\n",
       "      <td>1560.0</td>\n",
       "      <td>Diesel</td>\n",
       "      <td>Front wheels</td>\n",
       "      <td>Manual</td>\n",
       "      <td>compact</td>\n",
       "      <td>5.0</td>\n",
       "      <td>blue</td>\n",
       "      <td>0</td>\n",
       "      <td>Gdańsk, Pomorskie, Przymorze Wielkie</td>\n",
       "      <td>['ABS', 'Electric front windows', 'Drivers air...</td>\n",
       "    </tr>\n",
       "    <tr>\n",
       "      <th>4</th>\n",
       "      <td>44800</td>\n",
       "      <td>Used</td>\n",
       "      <td>Toyota</td>\n",
       "      <td>Avensis</td>\n",
       "      <td>2013.0</td>\n",
       "      <td>NaN</td>\n",
       "      <td>NaN</td>\n",
       "      <td>1798.0</td>\n",
       "      <td>Gasoline</td>\n",
       "      <td>Front wheels</td>\n",
       "      <td>Manual</td>\n",
       "      <td>NaN</td>\n",
       "      <td>4.0</td>\n",
       "      <td>other</td>\n",
       "      <td>1</td>\n",
       "      <td>Świdnik, świdnicki, Lubelskie</td>\n",
       "      <td>['ABS', 'Electric front windows', 'Drivers air...</td>\n",
       "    </tr>\n",
       "  </tbody>\n",
       "</table>\n",
       "</div>"
      ]
     },
     "execution_count": 639,
     "metadata": {},
     "output_type": "execute_result"
    }
   ],
   "execution_count": 639
  },
  {
   "metadata": {},
   "cell_type": "markdown",
   "source": [
    "### 🔍 Sprawdzenie brakujących danych\n",
    "- Wyświetlono liczbę brakujących wartości (NaN) w każdej kolumnie zbioru danych. Pozwala to szybko zidentyfikować, które cechy wymagają uzupełnienia, usunięcia lub dalszej obróbki przed treningiem modelu."
   ],
   "id": "1e495c4b0317ea0"
  },
  {
   "metadata": {
    "ExecuteTime": {
     "end_time": "2025-03-25T16:08:39.064098Z",
     "start_time": "2025-03-25T16:08:39.016529Z"
    }
   },
   "cell_type": "code",
   "source": "print(train_df.isnull().sum())",
   "id": "6b4d94494b85b68e",
   "outputs": [
    {
     "name": "stdout",
     "output_type": "stream",
     "text": [
      "Cena                       0\n",
      "Stan                    3322\n",
      "Marka_pojazdu           3351\n",
      "Model_pojazdu           3309\n",
      "Rok_produkcji           3407\n",
      "Przebieg_km             4003\n",
      "Moc_KM                  3733\n",
      "Pojemnosc_cm3           4686\n",
      "Rodzaj_paliwa           3410\n",
      "Naped                  13054\n",
      "Skrzynia_biegow         3775\n",
      "Typ_nadwozia            3359\n",
      "Liczba_drzwi            4364\n",
      "Kolor                   3463\n",
      "Pierwszy_wlasciciel        0\n",
      "Lokalizacja_oferty      3341\n",
      "Wyposazenie             3253\n",
      "dtype: int64\n"
     ]
    }
   ],
   "execution_count": 640
  },
  {
   "metadata": {
    "ExecuteTime": {
     "end_time": "2025-03-25T16:08:39.281900Z",
     "start_time": "2025-03-25T16:08:39.274026Z"
    }
   },
   "cell_type": "code",
   "source": "print(train_df[\"Naped\"].unique())",
   "id": "fa1f6f501feb19f7",
   "outputs": [
    {
     "name": "stdout",
     "output_type": "stream",
     "text": [
      "['Front wheels' nan '4x4 (permanent)' '4x4 (attached automatically)'\n",
      " 'Rear wheels' '4x4 (attached manually)']\n"
     ]
    }
   ],
   "execution_count": 641
  },
  {
   "metadata": {},
   "cell_type": "markdown",
   "source": [
    "### 🚗 Wyszukiwanie brakujących danych w kolumnie Naped\n",
    "- Wyodrębniono wszystkie unikalne kombinacje Marka_pojazdu i Model_pojazdu, dla których brakuje informacji o rodzaju napędu (Naped). Dzięki temu można łatwo zidentyfikować konkretne modele pojazdów wymagające uzupełnienia tej cechy."
   ],
   "id": "a358e26acf8ab261"
  },
  {
   "metadata": {
    "ExecuteTime": {
     "end_time": "2025-03-25T16:08:39.553805Z",
     "start_time": "2025-03-25T16:08:39.538934Z"
    }
   },
   "cell_type": "code",
   "source": [
    "missing_naped_df = train_df[train_df['Naped'].isna()]\n",
    "print(missing_naped_df[['Marka_pojazdu', 'Model_pojazdu']].drop_duplicates())\n"
   ],
   "id": "c65734b0ece0b00a",
   "outputs": [
    {
     "name": "stdout",
     "output_type": "stream",
     "text": [
      "       Marka_pojazdu Model_pojazdu\n",
      "2               Opel        Zafira\n",
      "6               Audi            A6\n",
      "21             Mazda             6\n",
      "28              Ford         Focus\n",
      "43           Porsche       Cayenne\n",
      "...              ...           ...\n",
      "132534       Renault      Latitude\n",
      "132626           NaN         Caddy\n",
      "132796       Renault       Fluence\n",
      "134061     Chevrolet       Venture\n",
      "134855         Škoda           130\n",
      "\n",
      "[1103 rows x 2 columns]\n"
     ]
    }
   ],
   "execution_count": 642
  },
  {
   "metadata": {
    "ExecuteTime": {
     "end_time": "2025-03-25T16:08:39.745945Z",
     "start_time": "2025-03-25T16:08:39.739363Z"
    }
   },
   "cell_type": "code",
   "source": "print(train_df['Naped'].isna().sum())",
   "id": "790e2bc893e47b01",
   "outputs": [
    {
     "name": "stdout",
     "output_type": "stream",
     "text": [
      "13054\n"
     ]
    }
   ],
   "execution_count": 643
  },
  {
   "metadata": {},
   "cell_type": "markdown",
   "source": [
    "### Uzupełnianie brakujących danych w kolumnie Naped\n",
    "- Brakujące wartości w kolumnie Naped zostały uzupełnione na podstawie najczęściej występującej wartości (moda) dla danej marki pojazdu (Marka_pojazdu). Pozwala to zachować spójność danych bez konieczności ich usuwania, a jednocześnie wykorzystać logiczne zależności między marką a typem napędu."
   ],
   "id": "5024c41b4c3ab404"
  },
  {
   "metadata": {
    "ExecuteTime": {
     "end_time": "2025-03-25T16:08:39.939911Z",
     "start_time": "2025-03-25T16:08:39.848453Z"
    }
   },
   "cell_type": "code",
   "source": [
    "train_df['Naped'] = train_df['Naped'].fillna(\n",
    "    train_df.groupby('Marka_pojazdu')['Naped'].transform(lambda x: x.mode().iloc[0] if not x.mode().empty else None)\n",
    ")\n"
   ],
   "id": "f4222d650bf1b1dd",
   "outputs": [],
   "execution_count": 644
  },
  {
   "metadata": {
    "ExecuteTime": {
     "end_time": "2025-03-25T16:08:40.232208Z",
     "start_time": "2025-03-25T16:08:40.221393Z"
    }
   },
   "cell_type": "code",
   "source": "print(train_df['Naped'].isna().sum())\n",
   "id": "35c2c56f5d9aea0a",
   "outputs": [
    {
     "name": "stdout",
     "output_type": "stream",
     "text": [
      "335\n"
     ]
    }
   ],
   "execution_count": 645
  },
  {
   "metadata": {
    "ExecuteTime": {
     "end_time": "2025-03-25T16:08:40.355467Z",
     "start_time": "2025-03-25T16:08:40.307216Z"
    }
   },
   "cell_type": "code",
   "source": "print(train_df.isnull().sum())",
   "id": "3a9b81990539334e",
   "outputs": [
    {
     "name": "stdout",
     "output_type": "stream",
     "text": [
      "Cena                      0\n",
      "Stan                   3322\n",
      "Marka_pojazdu          3351\n",
      "Model_pojazdu          3309\n",
      "Rok_produkcji          3407\n",
      "Przebieg_km            4003\n",
      "Moc_KM                 3733\n",
      "Pojemnosc_cm3          4686\n",
      "Rodzaj_paliwa          3410\n",
      "Naped                   335\n",
      "Skrzynia_biegow        3775\n",
      "Typ_nadwozia           3359\n",
      "Liczba_drzwi           4364\n",
      "Kolor                  3463\n",
      "Pierwszy_wlasciciel       0\n",
      "Lokalizacja_oferty     3341\n",
      "Wyposazenie            3253\n",
      "dtype: int64\n"
     ]
    }
   ],
   "execution_count": 646
  },
  {
   "metadata": {
    "ExecuteTime": {
     "end_time": "2025-03-25T16:08:40.496567Z",
     "start_time": "2025-03-25T16:08:40.451335Z"
    }
   },
   "cell_type": "code",
   "source": [
    "model_to_brand = (\n",
    "    train_df[train_df['Marka_pojazdu'].notna()]\n",
    "    .drop_duplicates(subset=['Model_pojazdu', 'Marka_pojazdu'])\n",
    "    .set_index('Model_pojazdu')['Marka_pojazdu']\n",
    "    .to_dict()\n",
    ")"
   ],
   "id": "277af96e972ee0a3",
   "outputs": [],
   "execution_count": 647
  },
  {
   "metadata": {},
   "cell_type": "markdown",
   "source": [
    "### 🔧 Tworzenie mapowania modelu na markę\n",
    "- Na podstawie unikalnych par Model_pojazdu i Marka_pojazdu utworzono słownik mapujący każdy model pojazdu na odpowiadającą mu markę. Służy to do późniejszego uzupełniania brakujących wartości w kolumnie Marka_pojazdu na podstawie znanej informacji o modelu"
   ],
   "id": "e4f0d8adc780afbb"
  },
  {
   "metadata": {
    "ExecuteTime": {
     "end_time": "2025-03-25T16:08:41.829974Z",
     "start_time": "2025-03-25T16:08:40.598535Z"
    }
   },
   "cell_type": "code",
   "source": [
    "train_df['Marka_pojazdu'] = train_df.apply(\n",
    "    lambda row: model_to_brand.get(row['Model_pojazdu'], row['Marka_pojazdu'])\n",
    "    if pd.isna(row['Marka_pojazdu']) else row['Marka_pojazdu'],\n",
    "    axis=1\n",
    ")"
   ],
   "id": "243f6a841ca395ed",
   "outputs": [],
   "execution_count": 648
  },
  {
   "metadata": {
    "ExecuteTime": {
     "end_time": "2025-03-25T16:08:41.930536Z",
     "start_time": "2025-03-25T16:08:41.923577Z"
    }
   },
   "cell_type": "code",
   "source": "print(train_df['Marka_pojazdu'].isna().sum())",
   "id": "d5c81bd244772af7",
   "outputs": [
    {
     "name": "stdout",
     "output_type": "stream",
     "text": [
      "4\n"
     ]
    }
   ],
   "execution_count": 649
  },
  {
   "metadata": {},
   "cell_type": "markdown",
   "source": [
    "### 🚘 Tworzenie mapowania typu nadwozia\n",
    "- Na podstawie unikalnych kombinacji Marka_pojazdu i Model_pojazdu utworzono słownik mapujący te pary na odpowiadający im Typ_nadwozia. Służy to do późniejszego uzupełniania brakujących wartości w kolumnie Typ_nadwozia w sposób logiczny i spójny z pozostałymi danymi."
   ],
   "id": "76e78b5bdcdce159"
  },
  {
   "metadata": {
    "ExecuteTime": {
     "end_time": "2025-03-25T16:08:42.092738Z",
     "start_time": "2025-03-25T16:08:42.026509Z"
    }
   },
   "cell_type": "code",
   "source": [
    "nadwozie_lookup = (\n",
    "    train_df[train_df['Typ_nadwozia'].notna()]\n",
    "    .drop_duplicates(subset=['Marka_pojazdu', 'Model_pojazdu', 'Typ_nadwozia'])\n",
    "    .set_index(['Marka_pojazdu', 'Model_pojazdu'])['Typ_nadwozia']\n",
    "    .to_dict()\n",
    ")\n"
   ],
   "id": "a31b8f99656b14d7",
   "outputs": [],
   "execution_count": 650
  },
  {
   "metadata": {},
   "cell_type": "markdown",
   "source": [
    "### 🛠️ Uzupełnianie braków w kolumnie Typ_nadwozia\n",
    "- Brakujące wartości w kolumnie Typ_nadwozia zostały uzupełnione na podstawie wcześniej utworzonego słownika, który mapuje pary (Marka_pojazdu, Model_pojazdu) na odpowiadający im typ nadwozia. Jeśli dla danej kombinacji nie znaleziono dopasowania, pozostawiono oryginalną wartość. Dzięki temu zachowano spójność danych bez ich usuwania."
   ],
   "id": "2ec84a2b60303ced"
  },
  {
   "metadata": {
    "ExecuteTime": {
     "end_time": "2025-03-25T16:08:43.103092Z",
     "start_time": "2025-03-25T16:08:42.189121Z"
    }
   },
   "cell_type": "code",
   "source": [
    "train_df['Typ_nadwozia'] = train_df.apply(\n",
    "    lambda row: nadwozie_lookup.get((row['Marka_pojazdu'], row['Model_pojazdu']), row['Typ_nadwozia'])\n",
    "    if pd.isna(row['Typ_nadwozia']) else row['Typ_nadwozia'],\n",
    "    axis=1\n",
    ")\n"
   ],
   "id": "dabef90b5de07caa",
   "outputs": [],
   "execution_count": 651
  },
  {
   "metadata": {
    "ExecuteTime": {
     "end_time": "2025-03-25T16:08:43.207057Z",
     "start_time": "2025-03-25T16:08:43.199436Z"
    }
   },
   "cell_type": "code",
   "source": "print(train_df['Typ_nadwozia'].isna().sum())\n",
   "id": "61583a61cb4418e3",
   "outputs": [
    {
     "name": "stdout",
     "output_type": "stream",
     "text": [
      "4\n"
     ]
    }
   ],
   "execution_count": 652
  },
  {
   "metadata": {},
   "cell_type": "markdown",
   "source": [
    "### ⛽ Tworzenie mapowania rodzaju paliwa\n",
    "- Na podstawie unikalnych kombinacji Marka_pojazdu i Pojemnosc_cm3 utworzono słownik mapujący te pary na odpowiadający im Rodzaj_paliwa. Mapowanie to umożliwia późniejsze uzupełnienie brakujących wartości paliwa w logiczny i oparty na danych sposób."
   ],
   "id": "dcb82d0896e40bac"
  },
  {
   "metadata": {
    "ExecuteTime": {
     "end_time": "2025-03-25T16:08:43.369021Z",
     "start_time": "2025-03-25T16:08:43.315822Z"
    }
   },
   "cell_type": "code",
   "source": [
    "paliwo_lookup = (\n",
    "    train_df[train_df['Rodzaj_paliwa'].notna()]\n",
    "    .drop_duplicates(subset=['Marka_pojazdu', 'Pojemnosc_cm3', 'Rodzaj_paliwa'])\n",
    "    .set_index(['Marka_pojazdu', 'Pojemnosc_cm3'])['Rodzaj_paliwa']\n",
    "    .to_dict()\n",
    ")"
   ],
   "id": "4d5ef1d4ca4c808a",
   "outputs": [],
   "execution_count": 653
  },
  {
   "metadata": {},
   "cell_type": "markdown",
   "source": [
    "### ⛽ Uzupełnianie braków w kolumnie Rodzaj_paliwa\n",
    "- Brakujące wartości w kolumnie Rodzaj_paliwa zostały uzupełnione na podstawie słownika mapującego kombinacje Marka_pojazdu i Pojemnosc_cm3 na odpowiedni typ paliwa. Jeśli nie znaleziono dopasowania, pozostawiono oryginalną wartość. Dzięki temu dane stają się bardziej kompletne i spójne, co zwiększa jakość predykcji modelu."
   ],
   "id": "218966d154d904fb"
  },
  {
   "metadata": {
    "ExecuteTime": {
     "end_time": "2025-03-25T16:08:44.328914Z",
     "start_time": "2025-03-25T16:08:43.461756Z"
    }
   },
   "cell_type": "code",
   "source": [
    "train_df['Rodzaj_paliwa'] = train_df.apply(\n",
    "    lambda row: paliwo_lookup.get((row['Marka_pojazdu'], row['Pojemnosc_cm3']), row['Rodzaj_paliwa'])\n",
    "    if pd.isna(row['Rodzaj_paliwa']) else row['Rodzaj_paliwa'],\n",
    "    axis=1\n",
    ")\n"
   ],
   "id": "afc24392cbcaf101",
   "outputs": [],
   "execution_count": 654
  },
  {
   "metadata": {
    "ExecuteTime": {
     "end_time": "2025-03-25T16:08:44.432370Z",
     "start_time": "2025-03-25T16:08:44.425015Z"
    }
   },
   "cell_type": "code",
   "source": "print(train_df['Rodzaj_paliwa'].isna().sum())\n",
   "id": "a50cfe5869ed9b1a",
   "outputs": [
    {
     "name": "stdout",
     "output_type": "stream",
     "text": [
      "147\n"
     ]
    }
   ],
   "execution_count": 655
  },
  {
   "metadata": {
    "ExecuteTime": {
     "end_time": "2025-03-25T16:08:44.580411Z",
     "start_time": "2025-03-25T16:08:44.534282Z"
    }
   },
   "cell_type": "code",
   "source": "print(train_df.isnull().sum())",
   "id": "ef3c648bc219414a",
   "outputs": [
    {
     "name": "stdout",
     "output_type": "stream",
     "text": [
      "Cena                      0\n",
      "Stan                   3322\n",
      "Marka_pojazdu             4\n",
      "Model_pojazdu          3309\n",
      "Rok_produkcji          3407\n",
      "Przebieg_km            4003\n",
      "Moc_KM                 3733\n",
      "Pojemnosc_cm3          4686\n",
      "Rodzaj_paliwa           147\n",
      "Naped                   335\n",
      "Skrzynia_biegow        3775\n",
      "Typ_nadwozia              4\n",
      "Liczba_drzwi           4364\n",
      "Kolor                  3463\n",
      "Pierwszy_wlasciciel       0\n",
      "Lokalizacja_oferty     3341\n",
      "Wyposazenie            3253\n",
      "dtype: int64\n"
     ]
    }
   ],
   "execution_count": 656
  },
  {
   "metadata": {},
   "cell_type": "markdown",
   "source": [
    "### 🚗 Tworzenie mapowania modelu pojazdu\n",
    "- Na podstawie unikalnych kombinacji Marka_pojazdu i Typ_nadwozia utworzono słownik mapujący je na odpowiadający im Model_pojazdu. Mapowanie to może być wykorzystane do uzupełnienia brakujących modeli w sposób zgodny z pozostałymi cechami pojazdu."
   ],
   "id": "dfc1328400aa07db"
  },
  {
   "metadata": {
    "ExecuteTime": {
     "end_time": "2025-03-25T16:08:44.748798Z",
     "start_time": "2025-03-25T16:08:44.684534Z"
    }
   },
   "cell_type": "code",
   "source": [
    "model_lookup = (\n",
    "    train_df[train_df['Model_pojazdu'].notna()]\n",
    "    .drop_duplicates(subset=['Marka_pojazdu', 'Typ_nadwozia', 'Model_pojazdu'])\n",
    "    .set_index(['Marka_pojazdu', 'Typ_nadwozia'])['Model_pojazdu']\n",
    "    .to_dict()\n",
    ")"
   ],
   "id": "ea61a66fcc1fdf08",
   "outputs": [],
   "execution_count": 657
  },
  {
   "metadata": {},
   "cell_type": "markdown",
   "source": [
    "### 🚘 Uzupełnianie braków w kolumnie Model_pojazdu\n",
    "- Brakujące wartości w kolumnie Model_pojazdu zostały uzupełnione na podstawie słownika mapującego pary (Marka_pojazdu, Typ_nadwozia) na odpowiadające im modele. Jeżeli dla danej kombinacji nie znaleziono dopasowania, pozostawiono oryginalną wartość. Zabieg ten zwiększa kompletność danych i umożliwia modelowi lepsze rozróżnianie między pojazdami."
   ],
   "id": "fb0b8eb15fd80ffc"
  },
  {
   "metadata": {
    "ExecuteTime": {
     "end_time": "2025-03-25T16:08:45.701280Z",
     "start_time": "2025-03-25T16:08:44.841312Z"
    }
   },
   "cell_type": "code",
   "source": [
    "train_df['Model_pojazdu'] = train_df.apply(\n",
    "    lambda row: model_lookup.get((row['Marka_pojazdu'], row['Typ_nadwozia']), row['Model_pojazdu'])\n",
    "    if pd.isna(row['Model_pojazdu']) else row['Model_pojazdu'],\n",
    "    axis=1\n",
    ")\n"
   ],
   "id": "e8beac06f8530155",
   "outputs": [],
   "execution_count": 658
  },
  {
   "metadata": {
    "ExecuteTime": {
     "end_time": "2025-03-25T16:08:45.810600Z",
     "start_time": "2025-03-25T16:08:45.803526Z"
    }
   },
   "cell_type": "code",
   "source": "print(train_df['Model_pojazdu'].isna().sum())\n",
   "id": "147efea4f01efaee",
   "outputs": [
    {
     "name": "stdout",
     "output_type": "stream",
     "text": [
      "27\n"
     ]
    }
   ],
   "execution_count": 659
  },
  {
   "metadata": {
    "ExecuteTime": {
     "end_time": "2025-03-25T16:08:45.927377Z",
     "start_time": "2025-03-25T16:08:45.919896Z"
    }
   },
   "cell_type": "code",
   "source": "print(train_df[\"Stan\"].unique())",
   "id": "b547d2f43232acd6",
   "outputs": [
    {
     "name": "stdout",
     "output_type": "stream",
     "text": [
      "['Used' 'New' nan]\n"
     ]
    }
   ],
   "execution_count": 660
  },
  {
   "metadata": {},
   "cell_type": "markdown",
   "source": [
    "### ⚙️ Tworzenie mapowania stanu pojazdu\n",
    "- Na podstawie unikalnych kombinacji Marka_pojazdu i Rok_produkcji utworzono słownik mapujący je na odpowiadający im Stan. Mapowanie to pozwala w logiczny sposób uzupełniać brakujące dane dotyczące stanu technicznego pojazdu na podstawie innych powiązanych informacji."
   ],
   "id": "faf2623c7753beeb"
  },
  {
   "metadata": {
    "ExecuteTime": {
     "end_time": "2025-03-25T16:08:46.080178Z",
     "start_time": "2025-03-25T16:08:46.031326Z"
    }
   },
   "cell_type": "code",
   "source": [
    "stan_lookup = (\n",
    "    train_df[train_df['Stan'].notna()]\n",
    "    .drop_duplicates(subset=['Marka_pojazdu', 'Rok_produkcji', 'Stan'])\n",
    "    .set_index(['Marka_pojazdu', 'Rok_produkcji'])['Stan']\n",
    "    .to_dict()\n",
    ")"
   ],
   "id": "aafb2ad64749bb1b",
   "outputs": [],
   "execution_count": 661
  },
  {
   "metadata": {},
   "cell_type": "markdown",
   "source": [
    "### 🔧 Uzupełnianie braków w kolumnie Stan\n",
    "- Brakujące wartości w kolumnie Stan zostały uzupełnione na podstawie słownika mapującego pary (Marka_pojazdu, Rok_produkcji) na odpowiadający im stan techniczny pojazdu. W przypadku braku dopasowania pozostawiono oryginalną wartość. Dzięki temu dane są bardziej kompletne i lepiej odzwierciedlają rzeczywiste cechy pojazdów."
   ],
   "id": "dfbde40f4a869062"
  },
  {
   "metadata": {
    "ExecuteTime": {
     "end_time": "2025-03-25T16:08:47.032446Z",
     "start_time": "2025-03-25T16:08:46.169627Z"
    }
   },
   "cell_type": "code",
   "source": [
    "train_df['Stan'] = train_df.apply(\n",
    "    lambda row: stan_lookup.get((row['Marka_pojazdu'], row['Rok_produkcji']), row['Stan'])\n",
    "    if pd.isna(row['Stan']) else row['Stan'],\n",
    "    axis=1\n",
    ")\n"
   ],
   "id": "d00929c60b45de71",
   "outputs": [],
   "execution_count": 662
  },
  {
   "metadata": {
    "ExecuteTime": {
     "end_time": "2025-03-25T16:08:47.132840Z",
     "start_time": "2025-03-25T16:08:47.125912Z"
    }
   },
   "cell_type": "code",
   "source": "print(train_df['Stan'].isna().sum())\n",
   "id": "1e3a342ecc70278e",
   "outputs": [
    {
     "name": "stdout",
     "output_type": "stream",
     "text": [
      "97\n"
     ]
    }
   ],
   "execution_count": 663
  },
  {
   "metadata": {
    "ExecuteTime": {
     "end_time": "2025-03-25T16:08:47.281897Z",
     "start_time": "2025-03-25T16:08:47.233287Z"
    }
   },
   "cell_type": "code",
   "source": "print(train_df.isnull().sum())",
   "id": "d867b8fc634f67c3",
   "outputs": [
    {
     "name": "stdout",
     "output_type": "stream",
     "text": [
      "Cena                      0\n",
      "Stan                     97\n",
      "Marka_pojazdu             4\n",
      "Model_pojazdu            27\n",
      "Rok_produkcji          3407\n",
      "Przebieg_km            4003\n",
      "Moc_KM                 3733\n",
      "Pojemnosc_cm3          4686\n",
      "Rodzaj_paliwa           147\n",
      "Naped                   335\n",
      "Skrzynia_biegow        3775\n",
      "Typ_nadwozia              4\n",
      "Liczba_drzwi           4364\n",
      "Kolor                  3463\n",
      "Pierwszy_wlasciciel       0\n",
      "Lokalizacja_oferty     3341\n",
      "Wyposazenie            3253\n",
      "dtype: int64\n"
     ]
    }
   ],
   "execution_count": 664
  },
  {
   "metadata": {},
   "cell_type": "markdown",
   "source": [
    "### 📅 Funkcja do uzupełniania braków w kolumnie Rok_produkcji\n",
    "- Funkcja przypisz_rok służy do uzupełniania brakujących wartości w kolumnie Rok_produkcji na podstawie podobnych rekordów w zbiorze danych. Dla danego wiersza sprawdzane są inne pojazdy o tym samym modelu, dla których znane są zarówno rok produkcji, jak i przebieg. Spośród nich wybierany jest ten o najbardziej zbliżonym przebiegu, a jego rok produkcji przypisywany jest do brakującego pola. W przypadku braku podobnych rekordów zwracana jest wartość NaN."
   ],
   "id": "9a25700cd4c5f9da"
  },
  {
   "metadata": {
    "ExecuteTime": {
     "end_time": "2025-03-25T16:08:47.390210Z",
     "start_time": "2025-03-25T16:08:47.385680Z"
    }
   },
   "cell_type": "code",
   "source": [
    "def przypisz_rok(row, df):\n",
    "    if pd.notna(row['Rok_produkcji']):\n",
    "        return row['Rok_produkcji'] \n",
    "\n",
    "\n",
    "    podobne = df[\n",
    "        (df['Model_pojazdu'] == row['Model_pojazdu']) &\n",
    "        (df['Rok_produkcji'].notna()) &\n",
    "        (df['Przebieg_km'].notna())\n",
    "    ]\n",
    "    \n",
    "    if podobne.empty:\n",
    "        return np.nan  # nic nie znaleziono\n",
    "\n",
    "\n",
    "    podobne['roznica'] = abs(podobne['Przebieg_km'] - row['Przebieg_km'])\n",
    "    najblizszy = podobne.sort_values(by='roznica').iloc[0]\n",
    "\n",
    "    return najblizszy['Rok_produkcji']\n"
   ],
   "id": "b5c9c35d4a801885",
   "outputs": [],
   "execution_count": 665
  },
  {
   "metadata": {},
   "cell_type": "markdown",
   "source": [
    "### 📆 Uzupełnianie braków w kolumnie Rok_produkcji\n",
    "- Brakujące wartości w kolumnie Rok_produkcji zostały uzupełnione za pomocą funkcji przypisz_rok, która na podstawie podobnych pojazdów (o tym samym modelu i zbliżonym przebiegu) przypisuje najbardziej prawdopodobny rok produkcji. Dzięki temu dane są bardziej kompletne i realistyczne, co wpływa pozytywnie na jakość predykcji modelu."
   ],
   "id": "495e4b9115e38da7"
  },
  {
   "metadata": {
    "ExecuteTime": {
     "end_time": "2025-03-25T16:09:15.106846Z",
     "start_time": "2025-03-25T16:08:47.489828Z"
    }
   },
   "cell_type": "code",
   "source": "train_df['Rok_produkcji'] = train_df.apply(lambda row: przypisz_rok(row, train_df), axis=1)\n",
   "id": "702b2cd3e2637674",
   "outputs": [],
   "execution_count": 666
  },
  {
   "metadata": {
    "ExecuteTime": {
     "end_time": "2025-03-25T16:09:15.205814Z",
     "start_time": "2025-03-25T16:09:15.201572Z"
    }
   },
   "cell_type": "code",
   "source": "print(train_df['Rok_produkcji'].isna().sum())\n",
   "id": "10786f643123581f",
   "outputs": [
    {
     "name": "stdout",
     "output_type": "stream",
     "text": [
      "2\n"
     ]
    }
   ],
   "execution_count": 667
  },
  {
   "metadata": {},
   "cell_type": "markdown",
   "source": [
    "### 🛣️ Funkcja do uzupełniania braków w kolumnie Przebieg_km\n",
    "- Funkcja przypisz_przebieg uzupełnia brakujące wartości przebiegu (Przebieg_km) na podstawie mediany z podobnych pojazdów. Jako podobne uznawane są auta o tym samym modelu i roku produkcji, dla których znany jest przebieg. Jeśli takie rekordy istnieją, funkcja zwraca medianę ich przebiegu. W przeciwnym przypadku pozostawia wartość jako NaN. Pozwala to realistycznie oszacować brakujące dane i zwiększyć jakość zbioru."
   ],
   "id": "a029180297dc7020"
  },
  {
   "metadata": {
    "ExecuteTime": {
     "end_time": "2025-03-25T16:09:15.303319Z",
     "start_time": "2025-03-25T16:09:15.298840Z"
    }
   },
   "cell_type": "code",
   "source": [
    "def przypisz_przebieg(row, df):\n",
    "    if pd.notna(row['Przebieg_km']):\n",
    "        return row['Przebieg_km']\n",
    "\n",
    "    # Znajdź podobne auta z tym samym modelem i rokiem produkcji\n",
    "    podobne = df[\n",
    "        (df['Model_pojazdu'] == row['Model_pojazdu']) &\n",
    "        (df['Rok_produkcji'] == row['Rok_produkcji']) &\n",
    "        (df['Przebieg_km'].notna())\n",
    "    ]\n",
    "\n",
    "    if podobne.empty:\n",
    "        return np.nan\n",
    "\n",
    "\n",
    "    return podobne['Przebieg_km'].median()\n"
   ],
   "id": "5a6ca04e46c2a85e",
   "outputs": [],
   "execution_count": 668
  },
  {
   "metadata": {},
   "cell_type": "markdown",
   "source": [
    "### 🚗 Uzupełnianie braków w kolumnie Przebieg_km\n",
    "- Brakujące wartości przebiegu zostały uzupełnione za pomocą funkcji przypisz_przebieg, która przypisuje medianę przebiegu spośród pojazdów o tym samym modelu i roku produkcji. Dzięki temu dane stają się bardziej kompletne, a estymacja opiera się na rzeczywistych, zbliżonych przypadkach."
   ],
   "id": "83681ad81daa2f"
  },
  {
   "metadata": {
    "ExecuteTime": {
     "end_time": "2025-03-25T16:09:42.289992Z",
     "start_time": "2025-03-25T16:09:15.397806Z"
    }
   },
   "cell_type": "code",
   "source": "train_df['Przebieg_km'] = train_df.apply(lambda row: przypisz_przebieg(row, train_df), axis=1)\n",
   "id": "1fa422a446e46260",
   "outputs": [],
   "execution_count": 669
  },
  {
   "metadata": {
    "ExecuteTime": {
     "end_time": "2025-03-25T16:09:42.388275Z",
     "start_time": "2025-03-25T16:09:42.383883Z"
    }
   },
   "cell_type": "code",
   "source": "print(train_df['Przebieg_km'].isna().sum())\n",
   "id": "f7f80e97fc77ef2a",
   "outputs": [
    {
     "name": "stdout",
     "output_type": "stream",
     "text": [
      "71\n"
     ]
    }
   ],
   "execution_count": 670
  },
  {
   "metadata": {
    "ExecuteTime": {
     "end_time": "2025-03-25T16:09:42.533906Z",
     "start_time": "2025-03-25T16:09:42.485094Z"
    }
   },
   "cell_type": "code",
   "source": "print(train_df.isnull().sum())",
   "id": "845a6d9c8e4a0085",
   "outputs": [
    {
     "name": "stdout",
     "output_type": "stream",
     "text": [
      "Cena                      0\n",
      "Stan                     97\n",
      "Marka_pojazdu             4\n",
      "Model_pojazdu            27\n",
      "Rok_produkcji             2\n",
      "Przebieg_km              71\n",
      "Moc_KM                 3733\n",
      "Pojemnosc_cm3          4686\n",
      "Rodzaj_paliwa           147\n",
      "Naped                   335\n",
      "Skrzynia_biegow        3775\n",
      "Typ_nadwozia              4\n",
      "Liczba_drzwi           4364\n",
      "Kolor                  3463\n",
      "Pierwszy_wlasciciel       0\n",
      "Lokalizacja_oferty     3341\n",
      "Wyposazenie            3253\n",
      "dtype: int64\n"
     ]
    }
   ],
   "execution_count": 671
  },
  {
   "metadata": {},
   "cell_type": "markdown",
   "source": [
    "### 🏎️ Funkcja do uzupełniania braków w kolumnie Moc_KM\n",
    "- Funkcja przypisz_moc służy do uzupełniania brakujących wartości mocy silnika (Moc_KM). Wyszukuje podobne pojazdy o tym samym modelu i pojemności silnika, a następnie zwraca medianę ich mocy. Jeśli brak jest odpowiednich danych, funkcja pozostawia wartość jako NaN. Takie podejście pozwala oszacować brakujące dane w sposób oparty na podobnych, rzeczywistych przypadkach."
   ],
   "id": "9becd73c83e20b56"
  },
  {
   "metadata": {
    "ExecuteTime": {
     "end_time": "2025-03-25T16:09:42.632277Z",
     "start_time": "2025-03-25T16:09:42.628180Z"
    }
   },
   "cell_type": "code",
   "source": [
    "def przypisz_moc(row, df):\n",
    "    if pd.notna(row['Moc_KM']):\n",
    "        return row['Moc_KM']\n",
    "\n",
    "    # Znajdź podobne auta z tym samym modelem i pojemnością\n",
    "    podobne = df[\n",
    "        (df['Model_pojazdu'] == row['Model_pojazdu']) &\n",
    "        (df['Pojemnosc_cm3'] == row['Pojemnosc_cm3']) &\n",
    "        (df['Moc_KM'].notna())\n",
    "    ]\n",
    "\n",
    "    if podobne.empty:\n",
    "        return np.nan\n",
    "\n",
    "\n",
    "    return podobne['Moc_KM'].median()\n"
   ],
   "id": "3c48557035908a4",
   "outputs": [],
   "execution_count": 672
  },
  {
   "metadata": {},
   "cell_type": "markdown",
   "source": [
    "### ⚙️ Uzupełnianie braków w kolumnie Moc_KM\n",
    "- Brakujące wartości w kolumnie Moc_KM zostały uzupełnione za pomocą funkcji przypisz_moc, która przypisuje medianę mocy silnika na podstawie pojazdów o tym samym modelu i pojemności silnika. Dzięki temu dane techniczne stają się pełniejsze, co zwiększa jakość predykcji i umożliwia lepsze dopasowanie modelu."
   ],
   "id": "24c6a6e7bb68aa04"
  },
  {
   "metadata": {
    "ExecuteTime": {
     "end_time": "2025-03-25T16:10:07.898195Z",
     "start_time": "2025-03-25T16:09:42.724290Z"
    }
   },
   "cell_type": "code",
   "source": "train_df['Moc_KM'] = train_df.apply(lambda row: przypisz_moc(row, train_df), axis=1)\n",
   "id": "7d7e696e3fa1f6a",
   "outputs": [],
   "execution_count": 673
  },
  {
   "metadata": {
    "ExecuteTime": {
     "end_time": "2025-03-25T16:10:08.000171Z",
     "start_time": "2025-03-25T16:10:07.996089Z"
    }
   },
   "cell_type": "code",
   "source": "print(train_df['Moc_KM'].isna().sum())\n",
   "id": "2ec3bbf7a8d63bb4",
   "outputs": [
    {
     "name": "stdout",
     "output_type": "stream",
     "text": [
      "437\n"
     ]
    }
   ],
   "execution_count": 674
  },
  {
   "metadata": {},
   "cell_type": "markdown",
   "source": [
    "### 🧪 Funkcja do uzupełniania braków w kolumnie Pojemnosc_cm3\n",
    "- Funkcja przypisz_pojemnosc uzupełnia brakujące wartości pojemności silnika (Pojemnosc_cm3) na podstawie mediany z podobnych pojazdów. Wyszukiwane są auta o tym samym modelu i mocy silnika (Moc_KM), dla których znana jest pojemność. Jeśli odpowiednie dane są dostępne, zwracana jest ich mediana; w przeciwnym razie pozostawiane jest NaN. Dzięki temu zachowana jest spójność technicznych parametrów pojazdu."
   ],
   "id": "cc9673b23e436f71"
  },
  {
   "metadata": {
    "ExecuteTime": {
     "end_time": "2025-03-25T16:10:08.106390Z",
     "start_time": "2025-03-25T16:10:08.101445Z"
    }
   },
   "cell_type": "code",
   "source": [
    "\n",
    "def przypisz_pojemnosc(row, df):\n",
    "    if pd.notna(row['Pojemnosc_cm3']):\n",
    "        return row['Pojemnosc_cm3']\n",
    "\n",
    "    # Znajdź podobne auta z tym samym modelem i mocą\n",
    "    podobne = df[\n",
    "        (df['Model_pojazdu'] == row['Model_pojazdu']) &\n",
    "        (df['Moc_KM'] == row['Moc_KM']) &\n",
    "        (df['Pojemnosc_cm3'].notna())\n",
    "    ]\n",
    "\n",
    "    if podobne.empty:\n",
    "        return np.nan\n",
    "\n",
    "\n",
    "    return podobne['Pojemnosc_cm3'].median()\n"
   ],
   "id": "ddf08e2f54724e9a",
   "outputs": [],
   "execution_count": 675
  },
  {
   "metadata": {},
   "cell_type": "markdown",
   "source": [
    "### 🧩 Uzupełnianie braków w kolumnie Pojemnosc_cm3\n",
    "- Brakujące wartości w kolumnie Pojemnosc_cm3 zostały uzupełnione za pomocą funkcji przypisz_pojemnosc, która przypisuje medianę pojemności silnika na podstawie pojazdów o tym samym modelu i mocy (Moc_KM). Zabieg ten poprawia kompletność danych technicznych i zwiększa ich spójność w zbiorze treningowym."
   ],
   "id": "d5cef8644d2b6c4f"
  },
  {
   "metadata": {
    "ExecuteTime": {
     "end_time": "2025-03-25T16:10:39.523240Z",
     "start_time": "2025-03-25T16:10:08.200613Z"
    }
   },
   "cell_type": "code",
   "source": "train_df['Pojemnosc_cm3'] = train_df.apply(lambda row: przypisz_pojemnosc(row, train_df), axis=1)\n",
   "id": "ad71000f738dc38c",
   "outputs": [],
   "execution_count": 676
  },
  {
   "metadata": {
    "ExecuteTime": {
     "end_time": "2025-03-25T16:10:39.620872Z",
     "start_time": "2025-03-25T16:10:39.615685Z"
    }
   },
   "cell_type": "code",
   "source": "print(train_df['Pojemnosc_cm3'].isna().sum())\n",
   "id": "a764e9d2f74bc9c9",
   "outputs": [
    {
     "name": "stdout",
     "output_type": "stream",
     "text": [
      "1157\n"
     ]
    }
   ],
   "execution_count": 677
  },
  {
   "metadata": {},
   "cell_type": "markdown",
   "source": [
    "### 🚪 Funkcja do uzupełniania braków w kolumnie Liczba_drzwi\n",
    "- Funkcja przypisz_drzwi uzupełnia brakujące wartości liczby drzwi w pojeździe (Liczba_drzwi). W tym celu wyszukiwane są pojazdy o tym samym typie nadwozia (Typ_nadwozia) i modelu (Model_pojazdu) z dostępną informacją o liczbie drzwi. Jeżeli takie dane istnieją, przypisywana jest najczęściej występująca wartość (moda). W przeciwnym przypadku pozostawiana jest wartość NaN."
   ],
   "id": "fbaff947dca334b7"
  },
  {
   "metadata": {
    "ExecuteTime": {
     "end_time": "2025-03-25T16:10:39.729185Z",
     "start_time": "2025-03-25T16:10:39.725184Z"
    }
   },
   "cell_type": "code",
   "source": [
    "def przypisz_drzwi(row, df):\n",
    "    if pd.notna(row['Liczba_drzwi']):\n",
    "        return row['Liczba_drzwi']\n",
    "\n",
    "    podobne = df[\n",
    "        (df['Typ_nadwozia'] == row['Typ_nadwozia']) &\n",
    "        (df['Model_pojazdu'] == row['Model_pojazdu']) &\n",
    "        (df['Liczba_drzwi'].notna())\n",
    "    ]\n",
    "\n",
    "    if podobne.empty:\n",
    "        return np.nan\n",
    "\n",
    "    return podobne['Liczba_drzwi'].mode().iloc[0] \n"
   ],
   "id": "c2106a3b7c4abe46",
   "outputs": [],
   "execution_count": 678
  },
  {
   "metadata": {},
   "cell_type": "markdown",
   "source": [
    "### 🚘 Uzupełnianie braków w kolumnie Liczba_drzwi\n",
    "- Brakujące wartości w kolumnie Liczba_drzwi zostały uzupełnione za pomocą funkcji przypisz_drzwi, która przypisuje najczęściej występującą liczbę drzwi (modę) na podstawie pojazdów o tym samym modelu i typie nadwozia. Dzięki temu zachowana jest zgodność konstrukcyjna pojazdów, a zbiór danych staje się bardziej kompletny."
   ],
   "id": "39a9f90c985d8b4"
  },
  {
   "metadata": {
    "ExecuteTime": {
     "end_time": "2025-03-25T16:11:34.245189Z",
     "start_time": "2025-03-25T16:10:39.823809Z"
    }
   },
   "cell_type": "code",
   "source": "train_df['Liczba_drzwi'] = train_df.apply(lambda row: przypisz_drzwi(row, train_df), axis=1)\n",
   "id": "3e302f3fd92f0df4",
   "outputs": [],
   "execution_count": 679
  },
  {
   "metadata": {
    "ExecuteTime": {
     "end_time": "2025-03-25T16:11:34.364680Z",
     "start_time": "2025-03-25T16:11:34.359768Z"
    }
   },
   "cell_type": "code",
   "source": "print(train_df['Liczba_drzwi'].isna().sum())\n",
   "id": "365dc10028408405",
   "outputs": [
    {
     "name": "stdout",
     "output_type": "stream",
     "text": [
      "22\n"
     ]
    }
   ],
   "execution_count": 680
  },
  {
   "metadata": {
    "ExecuteTime": {
     "end_time": "2025-03-25T16:11:34.545833Z",
     "start_time": "2025-03-25T16:11:34.483457Z"
    }
   },
   "cell_type": "code",
   "source": "print(train_df.isnull().sum())",
   "id": "ab4589136717aef5",
   "outputs": [
    {
     "name": "stdout",
     "output_type": "stream",
     "text": [
      "Cena                      0\n",
      "Stan                     97\n",
      "Marka_pojazdu             4\n",
      "Model_pojazdu            27\n",
      "Rok_produkcji             2\n",
      "Przebieg_km              71\n",
      "Moc_KM                  437\n",
      "Pojemnosc_cm3          1157\n",
      "Rodzaj_paliwa           147\n",
      "Naped                   335\n",
      "Skrzynia_biegow        3775\n",
      "Typ_nadwozia              4\n",
      "Liczba_drzwi             22\n",
      "Kolor                  3463\n",
      "Pierwszy_wlasciciel       0\n",
      "Lokalizacja_oferty     3341\n",
      "Wyposazenie            3253\n",
      "dtype: int64\n"
     ]
    }
   ],
   "execution_count": 681
  },
  {
   "metadata": {},
   "cell_type": "markdown",
   "source": [
    "### 🎨 Tworzenie mapowania koloru pojazdu\n",
    "- Na podstawie kombinacji Marka_pojazdu, Model_pojazdu i Rok_produkcji utworzono słownik mapujący te cechy na najczęściej występujący kolor (Kolor). Dzięki temu możliwe jest późniejsze uzupełnianie brakujących danych o kolorze w sposób logiczny i oparty na rzeczywistych obserwacjach."
   ],
   "id": "f08dacbf81037bd4"
  },
  {
   "metadata": {
    "ExecuteTime": {
     "end_time": "2025-03-25T16:11:35.663363Z",
     "start_time": "2025-03-25T16:11:34.711316Z"
    }
   },
   "cell_type": "code",
   "source": [
    "kolor_lookup = (\n",
    "    train_df[train_df['Kolor'].notna()]\n",
    "    .groupby(['Marka_pojazdu', 'Model_pojazdu', 'Rok_produkcji'])['Kolor']\n",
    "    .agg(lambda x: x.mode().iloc[0])\n",
    "    .to_dict()\n",
    ")\n"
   ],
   "id": "63c0343ed7fc8ef8",
   "outputs": [],
   "execution_count": 682
  },
  {
   "metadata": {},
   "cell_type": "markdown",
   "source": [
    "### 🎨 Uzupełnianie braków w kolumnie Kolor\n",
    "- Brakujące wartości w kolumnie Kolor zostały uzupełnione na podstawie najczęściej występującego koloru dla danego modelu pojazdu, marki i roku produkcji. Wykorzystano wcześniej przygotowany słownik z wartością modową. Dzięki temu dane są bardziej kompletne i odzwierciedlają najczęstsze konfiguracje pojazdów."
   ],
   "id": "1cbe71f02863b578"
  },
  {
   "metadata": {
    "ExecuteTime": {
     "end_time": "2025-03-25T16:11:36.756145Z",
     "start_time": "2025-03-25T16:11:35.768556Z"
    }
   },
   "cell_type": "code",
   "source": [
    "train_df['Kolor'] = train_df.apply(\n",
    "    lambda row: kolor_lookup.get((row['Marka_pojazdu'], row['Model_pojazdu'], row['Rok_produkcji']), row['Kolor'])\n",
    "    if pd.isna(row['Kolor']) else row['Kolor'],\n",
    "    axis=1\n",
    ")\n"
   ],
   "id": "60a03a0bf114e087",
   "outputs": [],
   "execution_count": 683
  },
  {
   "metadata": {
    "ExecuteTime": {
     "end_time": "2025-03-25T16:11:36.862542Z",
     "start_time": "2025-03-25T16:11:36.853355Z"
    }
   },
   "cell_type": "code",
   "source": "print(train_df['Kolor'].isna().sum())\n",
   "id": "2d726b39615c871",
   "outputs": [
    {
     "name": "stdout",
     "output_type": "stream",
     "text": [
      "84\n"
     ]
    }
   ],
   "execution_count": 684
  },
  {
   "metadata": {},
   "cell_type": "markdown",
   "source": [
    "### ⚙️ Tworzenie mapowania typu skrzyni biegów\n",
    "- Na podstawie kombinacji Marka_pojazdu, Model_pojazdu i Pojemnosc_cm3 utworzono słownik mapujący te cechy na najczęściej występujący typ skrzyni biegów (Skrzynia_biegow). Mapowanie to umożliwia późniejsze logiczne i oparte na danych uzupełnienie brakujących wartości w tej kolumnie."
   ],
   "id": "fe0924b8e354573c"
  },
  {
   "metadata": {
    "ExecuteTime": {
     "end_time": "2025-03-25T16:11:37.753870Z",
     "start_time": "2025-03-25T16:11:36.965621Z"
    }
   },
   "cell_type": "code",
   "source": [
    "skrzynia_lookup = (\n",
    "    train_df[train_df['Skrzynia_biegow'].notna()]\n",
    "    .groupby(['Marka_pojazdu', 'Model_pojazdu', 'Pojemnosc_cm3'])['Skrzynia_biegow']\n",
    "    .agg(lambda x: x.mode().iloc[0])\n",
    "    .to_dict()\n",
    ")\n"
   ],
   "id": "d82f1eb12f6650f4",
   "outputs": [],
   "execution_count": 685
  },
  {
   "metadata": {},
   "cell_type": "markdown",
   "source": [
    "### ⚙️ Uzupełnianie braków w kolumnie Skrzynia_biegow\n",
    "- Brakujące wartości w kolumnie Skrzynia_biegow zostały uzupełnione na podstawie najczęściej występującego typu skrzyni biegów dla danej kombinacji Marka_pojazdu, Model_pojazdu i Pojemnosc_cm3. Pozwala to na realistyczne odtworzenie brakujących danych technicznych i zwiększa spójność zbioru."
   ],
   "id": "d30cd4be8bde7ceb"
  },
  {
   "metadata": {
    "ExecuteTime": {
     "end_time": "2025-03-25T16:11:38.868341Z",
     "start_time": "2025-03-25T16:11:37.850450Z"
    }
   },
   "cell_type": "code",
   "source": [
    "train_df['Skrzynia_biegow'] = train_df.apply(\n",
    "    lambda row: skrzynia_lookup.get((row['Marka_pojazdu'], row['Model_pojazdu'], row['Pojemnosc_cm3']), row['Skrzynia_biegow'])\n",
    "    if pd.isna(row['Skrzynia_biegow']) else row['Skrzynia_biegow'],\n",
    "    axis=1\n",
    ")\n"
   ],
   "id": "c0d74a51c8bb1f17",
   "outputs": [],
   "execution_count": 686
  },
  {
   "metadata": {
    "ExecuteTime": {
     "end_time": "2025-03-25T16:11:38.998114Z",
     "start_time": "2025-03-25T16:11:38.988992Z"
    }
   },
   "cell_type": "code",
   "source": "print(train_df['Skrzynia_biegow'].isna().sum())\n",
   "id": "6ba8b26b180f156",
   "outputs": [
    {
     "name": "stdout",
     "output_type": "stream",
     "text": [
      "320\n"
     ]
    }
   ],
   "execution_count": 687
  },
  {
   "metadata": {
    "ExecuteTime": {
     "end_time": "2025-03-25T16:11:39.176668Z",
     "start_time": "2025-03-25T16:11:39.128815Z"
    }
   },
   "cell_type": "code",
   "source": "print(train_df.isnull().sum())",
   "id": "fb4cd05564059acb",
   "outputs": [
    {
     "name": "stdout",
     "output_type": "stream",
     "text": [
      "Cena                      0\n",
      "Stan                     97\n",
      "Marka_pojazdu             4\n",
      "Model_pojazdu            27\n",
      "Rok_produkcji             2\n",
      "Przebieg_km              71\n",
      "Moc_KM                  437\n",
      "Pojemnosc_cm3          1157\n",
      "Rodzaj_paliwa           147\n",
      "Naped                   335\n",
      "Skrzynia_biegow         320\n",
      "Typ_nadwozia              4\n",
      "Liczba_drzwi             22\n",
      "Kolor                    84\n",
      "Pierwszy_wlasciciel       0\n",
      "Lokalizacja_oferty     3341\n",
      "Wyposazenie            3253\n",
      "dtype: int64\n"
     ]
    }
   ],
   "execution_count": 688
  },
  {
   "metadata": {},
   "cell_type": "markdown",
   "source": [
    "### 🧰 Tworzenie mapowania wyposażenia pojazdu\n",
    "- Na podstawie kombinacji Marka_pojazdu, Model_pojazdu, Rok_produkcji oraz Skrzynia_biegow utworzono słownik mapujący te cechy na najczęściej występujące wyposażenie (Wyposazenie). Mapowanie to umożliwia późniejsze logiczne uzupełnianie brakujących wartości, bazując na najczęściej spotykanych konfiguracjach danego pojazdu."
   ],
   "id": "b06d430dc27b0fc"
  },
  {
   "metadata": {
    "ExecuteTime": {
     "end_time": "2025-03-25T16:11:40.727192Z",
     "start_time": "2025-03-25T16:11:39.280264Z"
    }
   },
   "cell_type": "code",
   "source": [
    "wyposazenie_lookup = (\n",
    "    train_df[train_df['Wyposazenie'].notna()]\n",
    "    .groupby(['Marka_pojazdu', 'Model_pojazdu', 'Rok_produkcji', 'Skrzynia_biegow'])['Wyposazenie']\n",
    "    .agg(lambda x: x.mode().iloc[0]) \n",
    "    .to_dict()\n",
    ")\n"
   ],
   "id": "5fae59e368ebeba4",
   "outputs": [],
   "execution_count": 689
  },
  {
   "metadata": {},
   "cell_type": "markdown",
   "source": [
    "### 🧰 Uzupełnianie braków w kolumnie Wyposazenie\n",
    "- Brakujące wartości w kolumnie Wyposazenie zostały uzupełnione na podstawie najczęściej występującej konfiguracji wyposażenia dla danego modelu pojazdu, marki, roku produkcji i typu skrzyni biegów. Uzupełnienie odbywa się na podstawie wcześniej utworzonego słownika, co zapewnia spójność danych oraz ich zgodność z typowymi zestawami wyposażenia w konkretnych wariantach pojazdu."
   ],
   "id": "31f6bf71c78b1295"
  },
  {
   "metadata": {
    "ExecuteTime": {
     "end_time": "2025-03-25T16:11:41.892491Z",
     "start_time": "2025-03-25T16:11:40.826127Z"
    }
   },
   "cell_type": "code",
   "source": [
    "train_df['Wyposazenie'] = train_df.apply(\n",
    "    lambda row: wyposazenie_lookup.get(\n",
    "        (row['Marka_pojazdu'], row['Model_pojazdu'], row['Rok_produkcji'], row['Skrzynia_biegow']),\n",
    "        row['Wyposazenie']\n",
    "    ) if pd.isna(row['Wyposazenie']) else row['Wyposazenie'],\n",
    "    axis=1\n",
    ")\n"
   ],
   "id": "b877ac146eb2dd8a",
   "outputs": [],
   "execution_count": 690
  },
  {
   "metadata": {
    "ExecuteTime": {
     "end_time": "2025-03-25T16:11:42.030157Z",
     "start_time": "2025-03-25T16:11:42.010530Z"
    }
   },
   "cell_type": "code",
   "source": "print(train_df['Wyposazenie'].isna().sum())\n",
   "id": "5306c0dba9b927c3",
   "outputs": [
    {
     "name": "stdout",
     "output_type": "stream",
     "text": [
      "120\n"
     ]
    }
   ],
   "execution_count": 691
  },
  {
   "metadata": {},
   "cell_type": "markdown",
   "source": [
    "### 📋 Przekształcanie danych w kolumnie Wyposazenie do formatu listy\n",
    "- Wartości w kolumnie Wyposazenie zostały przekształcone do formatu listy. Jeżeli dana komórka zawiera NaN, zwracana jest pusta lista. Jeśli już jest listą – zostaje bez zmian. W przeciwnym wypadku funkcja próbuje sparsować ciąg znaków jako listę przy użyciu ast.literal_eval(). Pozwala to na dalsze przetwarzanie danych wyposażenia w sposób uporządkowany, np. poprzez kodowanie cech binarnych."
   ],
   "id": "d8a92af166781be9"
  },
  {
   "metadata": {
    "ExecuteTime": {
     "end_time": "2025-03-25T16:11:48.471652Z",
     "start_time": "2025-03-25T16:11:42.144212Z"
    }
   },
   "cell_type": "code",
   "source": [
    "import ast\n",
    "\n",
    "def przeksztalc_na_liste(val):\n",
    "    if pd.isna(val):\n",
    "        return []\n",
    "    if isinstance(val, list):\n",
    "        return val\n",
    "    try:\n",
    "        return ast.literal_eval(val)\n",
    "    except:\n",
    "        return []\n",
    "\n",
    "train_df['Wyposazenie'] = train_df['Wyposazenie'].apply(przeksztalc_na_liste)\n"
   ],
   "id": "dc1990ebaf890e85",
   "outputs": [],
   "execution_count": 692
  },
  {
   "metadata": {},
   "cell_type": "markdown",
   "source": [
    "### 🧩 Wyodrębnienie unikalnych elementów wyposażenia\n",
    "- Za pomocą funkcji chain.from_iterable() z biblioteki itertools spłaszczono wszystkie listy znajdujące się w kolumnie Wyposazenie, a następnie przekształcono je w zbiór unikalnych elementów. Pozwoliło to określić, ile różnych cech wyposażenia występuje w zbiorze danych, co jest niezbędne do dalszego binarnego zakodowania tych informacji."
   ],
   "id": "7fceaaf770b0bd71"
  },
  {
   "metadata": {
    "ExecuteTime": {
     "end_time": "2025-03-25T16:11:48.754322Z",
     "start_time": "2025-03-25T16:11:48.571777Z"
    }
   },
   "cell_type": "code",
   "source": [
    "from itertools import chain\n",
    "\n",
    "wszystkie_wyposazenia = set(chain.from_iterable(train_df['Wyposazenie']))\n",
    "print(f\"🧩 Liczba unikalnych cech: {len(wszystkie_wyposazenia)}\")\n"
   ],
   "id": "8f1f48e7ed0860f6",
   "outputs": [
    {
     "name": "stdout",
     "output_type": "stream",
     "text": [
      "🧩 Liczba unikalnych cech: 70\n"
     ]
    }
   ],
   "execution_count": 693
  },
  {
   "metadata": {},
   "cell_type": "markdown",
   "source": [
    "### ✅ Kodowanie binarne cech wyposażenia\n",
    "- Dla każdej unikalnej pozycji wyposażenia utworzono nową kolumnę binarną w formacie has_<nazwa_cechy>. Wartość 1 oznacza obecność danej cechy w pojeździe, a 0 jej brak. Dzięki temu informacje o wyposażeniu zostały przekształcone do postaci numerycznej, zrozumiałej dla modeli uczenia maszynowego."
   ],
   "id": "f2bdd782c781b6ac"
  },
  {
   "metadata": {
    "ExecuteTime": {
     "end_time": "2025-03-25T16:11:53.864899Z",
     "start_time": "2025-03-25T16:11:48.851296Z"
    }
   },
   "cell_type": "code",
   "source": [
    "for cecha in wszystkie_wyposazenia:\n",
    "    train_df[f'has_{cecha}'] = train_df['Wyposazenie'].apply(lambda x: int(cecha in x))\n"
   ],
   "id": "8398d03bf3230ab4",
   "outputs": [],
   "execution_count": 694
  },
  {
   "metadata": {},
   "cell_type": "markdown",
   "source": [
    "### 🧹 Usunięcie oryginalnej kolumny Wyposazenie\n",
    "- Po zakodowaniu informacji o wyposażeniu w postaci cech binarnych, oryginalna kolumna Wyposazenie została usunięta. Pozwala to uprościć zbiór danych i uniknąć duplikacji informacji, zachowując jednocześnie wszystkie istotne cechy w formacie odpowiednim dla modelu predykcyjnego."
   ],
   "id": "7ef286f2c2775141"
  },
  {
   "metadata": {
    "ExecuteTime": {
     "end_time": "2025-03-25T16:11:54.126702Z",
     "start_time": "2025-03-25T16:11:53.989969Z"
    }
   },
   "cell_type": "code",
   "source": "train_df.drop(columns=['Wyposazenie'], inplace=True)\n",
   "id": "c61eb7277c8a1f36",
   "outputs": [],
   "execution_count": 695
  },
  {
   "metadata": {
    "ExecuteTime": {
     "end_time": "2025-03-25T16:11:54.285327Z",
     "start_time": "2025-03-25T16:11:54.271906Z"
    }
   },
   "cell_type": "code",
   "source": "train_df.head()",
   "id": "cd09b88aa2922d75",
   "outputs": [
    {
     "data": {
      "text/plain": [
       "    Cena  Stan Marka_pojazdu Model_pojazdu  Rok_produkcji  Przebieg_km  \\\n",
       "0  13900  Used       Renault  Grand Espace         2005.0     213000.0   \n",
       "1  25900  Used       Renault        Megane         2010.0     117089.0   \n",
       "2  35900  Used          Opel        Zafira         2015.0     115600.0   \n",
       "3   5999  Used          Ford         Focus         2007.0     218000.0   \n",
       "4  44800  Used        Toyota       Avensis         2013.0     181500.0   \n",
       "\n",
       "   Moc_KM  Pojemnosc_cm3   Rodzaj_paliwa         Naped  ...  \\\n",
       "0   170.0         1998.0        Gasoline  Front wheels  ...   \n",
       "1   110.0         1598.0        Gasoline  Front wheels  ...   \n",
       "2   136.0         1598.0  Gasoline + CNG  Front wheels  ...   \n",
       "3    90.0         1560.0          Diesel  Front wheels  ...   \n",
       "4   147.0         1798.0        Gasoline  Front wheels  ...   \n",
       "\n",
       "  has_Four-zone air conditioning has_Rain sensor  has_Manual air conditioning  \\\n",
       "0                              0               1                            0   \n",
       "1                              0               1                            1   \n",
       "2                              0               1                            0   \n",
       "3                              0               0                            1   \n",
       "4                              0               0                            1   \n",
       "\n",
       "  has_Lane assistant  has_Air curtains has_Blind spot sensor  has_CD changer  \\\n",
       "0                  0                 0                     0               0   \n",
       "1                  0                 0                     0               0   \n",
       "2                  0                 0                     0               0   \n",
       "3                  0                 0                     0               0   \n",
       "4                  0                 1                     0               0   \n",
       "\n",
       "   has_AUX socket  has_ESP(stabilization of the track)  has_Parking assistant  \n",
       "0               0                                    0                      0  \n",
       "1               0                                    1                      0  \n",
       "2               1                                    1                      0  \n",
       "3               0                                    0                      0  \n",
       "4               1                                    1                      0  \n",
       "\n",
       "[5 rows x 86 columns]"
      ],
      "text/html": [
       "<div>\n",
       "<style scoped>\n",
       "    .dataframe tbody tr th:only-of-type {\n",
       "        vertical-align: middle;\n",
       "    }\n",
       "\n",
       "    .dataframe tbody tr th {\n",
       "        vertical-align: top;\n",
       "    }\n",
       "\n",
       "    .dataframe thead th {\n",
       "        text-align: right;\n",
       "    }\n",
       "</style>\n",
       "<table border=\"1\" class=\"dataframe\">\n",
       "  <thead>\n",
       "    <tr style=\"text-align: right;\">\n",
       "      <th></th>\n",
       "      <th>Cena</th>\n",
       "      <th>Stan</th>\n",
       "      <th>Marka_pojazdu</th>\n",
       "      <th>Model_pojazdu</th>\n",
       "      <th>Rok_produkcji</th>\n",
       "      <th>Przebieg_km</th>\n",
       "      <th>Moc_KM</th>\n",
       "      <th>Pojemnosc_cm3</th>\n",
       "      <th>Rodzaj_paliwa</th>\n",
       "      <th>Naped</th>\n",
       "      <th>...</th>\n",
       "      <th>has_Four-zone air conditioning</th>\n",
       "      <th>has_Rain sensor</th>\n",
       "      <th>has_Manual air conditioning</th>\n",
       "      <th>has_Lane assistant</th>\n",
       "      <th>has_Air curtains</th>\n",
       "      <th>has_Blind spot sensor</th>\n",
       "      <th>has_CD changer</th>\n",
       "      <th>has_AUX socket</th>\n",
       "      <th>has_ESP(stabilization of the track)</th>\n",
       "      <th>has_Parking assistant</th>\n",
       "    </tr>\n",
       "  </thead>\n",
       "  <tbody>\n",
       "    <tr>\n",
       "      <th>0</th>\n",
       "      <td>13900</td>\n",
       "      <td>Used</td>\n",
       "      <td>Renault</td>\n",
       "      <td>Grand Espace</td>\n",
       "      <td>2005.0</td>\n",
       "      <td>213000.0</td>\n",
       "      <td>170.0</td>\n",
       "      <td>1998.0</td>\n",
       "      <td>Gasoline</td>\n",
       "      <td>Front wheels</td>\n",
       "      <td>...</td>\n",
       "      <td>0</td>\n",
       "      <td>1</td>\n",
       "      <td>0</td>\n",
       "      <td>0</td>\n",
       "      <td>0</td>\n",
       "      <td>0</td>\n",
       "      <td>0</td>\n",
       "      <td>0</td>\n",
       "      <td>0</td>\n",
       "      <td>0</td>\n",
       "    </tr>\n",
       "    <tr>\n",
       "      <th>1</th>\n",
       "      <td>25900</td>\n",
       "      <td>Used</td>\n",
       "      <td>Renault</td>\n",
       "      <td>Megane</td>\n",
       "      <td>2010.0</td>\n",
       "      <td>117089.0</td>\n",
       "      <td>110.0</td>\n",
       "      <td>1598.0</td>\n",
       "      <td>Gasoline</td>\n",
       "      <td>Front wheels</td>\n",
       "      <td>...</td>\n",
       "      <td>0</td>\n",
       "      <td>1</td>\n",
       "      <td>1</td>\n",
       "      <td>0</td>\n",
       "      <td>0</td>\n",
       "      <td>0</td>\n",
       "      <td>0</td>\n",
       "      <td>0</td>\n",
       "      <td>1</td>\n",
       "      <td>0</td>\n",
       "    </tr>\n",
       "    <tr>\n",
       "      <th>2</th>\n",
       "      <td>35900</td>\n",
       "      <td>Used</td>\n",
       "      <td>Opel</td>\n",
       "      <td>Zafira</td>\n",
       "      <td>2015.0</td>\n",
       "      <td>115600.0</td>\n",
       "      <td>136.0</td>\n",
       "      <td>1598.0</td>\n",
       "      <td>Gasoline + CNG</td>\n",
       "      <td>Front wheels</td>\n",
       "      <td>...</td>\n",
       "      <td>0</td>\n",
       "      <td>1</td>\n",
       "      <td>0</td>\n",
       "      <td>0</td>\n",
       "      <td>0</td>\n",
       "      <td>0</td>\n",
       "      <td>0</td>\n",
       "      <td>1</td>\n",
       "      <td>1</td>\n",
       "      <td>0</td>\n",
       "    </tr>\n",
       "    <tr>\n",
       "      <th>3</th>\n",
       "      <td>5999</td>\n",
       "      <td>Used</td>\n",
       "      <td>Ford</td>\n",
       "      <td>Focus</td>\n",
       "      <td>2007.0</td>\n",
       "      <td>218000.0</td>\n",
       "      <td>90.0</td>\n",
       "      <td>1560.0</td>\n",
       "      <td>Diesel</td>\n",
       "      <td>Front wheels</td>\n",
       "      <td>...</td>\n",
       "      <td>0</td>\n",
       "      <td>0</td>\n",
       "      <td>1</td>\n",
       "      <td>0</td>\n",
       "      <td>0</td>\n",
       "      <td>0</td>\n",
       "      <td>0</td>\n",
       "      <td>0</td>\n",
       "      <td>0</td>\n",
       "      <td>0</td>\n",
       "    </tr>\n",
       "    <tr>\n",
       "      <th>4</th>\n",
       "      <td>44800</td>\n",
       "      <td>Used</td>\n",
       "      <td>Toyota</td>\n",
       "      <td>Avensis</td>\n",
       "      <td>2013.0</td>\n",
       "      <td>181500.0</td>\n",
       "      <td>147.0</td>\n",
       "      <td>1798.0</td>\n",
       "      <td>Gasoline</td>\n",
       "      <td>Front wheels</td>\n",
       "      <td>...</td>\n",
       "      <td>0</td>\n",
       "      <td>0</td>\n",
       "      <td>1</td>\n",
       "      <td>0</td>\n",
       "      <td>1</td>\n",
       "      <td>0</td>\n",
       "      <td>0</td>\n",
       "      <td>1</td>\n",
       "      <td>1</td>\n",
       "      <td>0</td>\n",
       "    </tr>\n",
       "  </tbody>\n",
       "</table>\n",
       "<p>5 rows × 86 columns</p>\n",
       "</div>"
      ]
     },
     "execution_count": 696,
     "metadata": {},
     "output_type": "execute_result"
    }
   ],
   "execution_count": 696
  },
  {
   "metadata": {
    "ExecuteTime": {
     "end_time": "2025-03-25T19:21:27.093923Z",
     "start_time": "2025-03-25T19:21:27.080870Z"
    }
   },
   "cell_type": "code",
   "source": "print(train_df[\"Stan\"].unique())",
   "id": "2ea69bb693582d43",
   "outputs": [
    {
     "name": "stdout",
     "output_type": "stream",
     "text": [
      "['Used' 'New']\n"
     ]
    }
   ],
   "execution_count": 746
  },
  {
   "metadata": {
    "ExecuteTime": {
     "end_time": "2025-03-25T16:11:54.493088Z",
     "start_time": "2025-03-25T16:11:54.473244Z"
    }
   },
   "cell_type": "code",
   "source": "print(train_df[\"Lokalizacja_oferty\"].unique())",
   "id": "6331f41d6f5bef21",
   "outputs": [
    {
     "name": "stdout",
     "output_type": "stream",
     "text": [
      "['SŁONECZNA 1 - 99-300 Kutno, kutnowski, Łódzkie (Polska)'\n",
      " 'ul. Wiosenna 8 - 41-407 Imielin, Centrum (Polska)'\n",
      " 'Sianów, koszaliński, Zachodniopomorskie' ...\n",
      " 'Guty, legionowski, Mazowieckie' 'Góra, jarociński, Wielkopolskie'\n",
      " 'Modła Królewska, gm. Stare Miasto, koniński, Wielkopolskie']\n"
     ]
    }
   ],
   "execution_count": 698
  },
  {
   "metadata": {},
   "cell_type": "markdown",
   "source": [
    "### 🗺️ Usunięcie kolumny Lokalizacja_oferty\n",
    "- Kolumna Lokalizacja_oferty została usunięta, ponieważ nie wnosiła istotnej wartości predykcyjnej lub zawierała dane trudne do jednoznacznego przetworzenia. Jej usunięcie upraszcza zbiór danych i pozwala skupić się na cechach mających bezpośredni wpływ na cenę pojazdu."
   ],
   "id": "5a8fa861c3e172e4"
  },
  {
   "metadata": {
    "ExecuteTime": {
     "end_time": "2025-03-25T16:11:54.618257Z",
     "start_time": "2025-03-25T16:11:54.577702Z"
    }
   },
   "cell_type": "code",
   "source": "train_df.drop(columns=['Lokalizacja_oferty'], inplace=True)\n",
   "id": "9180dd283273838c",
   "outputs": [],
   "execution_count": 699
  },
  {
   "metadata": {
    "ExecuteTime": {
     "end_time": "2025-03-25T16:11:54.786772Z",
     "start_time": "2025-03-25T16:11:54.742293Z"
    }
   },
   "cell_type": "code",
   "source": "print(train_df.isnull().sum())",
   "id": "c7e82f4d3f5af81e",
   "outputs": [
    {
     "name": "stdout",
     "output_type": "stream",
     "text": [
      "Cena                                    0\n",
      "Stan                                   97\n",
      "Marka_pojazdu                           4\n",
      "Model_pojazdu                          27\n",
      "Rok_produkcji                           2\n",
      "                                       ..\n",
      "has_Blind spot sensor                   0\n",
      "has_CD changer                          0\n",
      "has_AUX socket                          0\n",
      "has_ESP(stabilization of the track)     0\n",
      "has_Parking assistant                   0\n",
      "Length: 85, dtype: int64\n"
     ]
    }
   ],
   "execution_count": 700
  },
  {
   "metadata": {},
   "cell_type": "markdown",
   "source": [
    "### 🧪 Tworzenie mapowania pojemności silnika\n",
    "- Na podstawie kombinacji Marka_pojazdu, Model_pojazdu, Rodzaj_paliwa oraz Skrzynia_biegow utworzono słownik mapujący te cechy na medianę wartości Pojemnosc_cm3. Mapowanie to umożliwia późniejsze uzupełnienie brakujących danych o pojemności silnika w sposób oparty na logicznych zależnościach i danych technicznych pojazdów."
   ],
   "id": "dfc51f58771cc712"
  },
  {
   "metadata": {
    "ExecuteTime": {
     "end_time": "2025-03-25T16:11:55.056863Z",
     "start_time": "2025-03-25T16:11:54.936022Z"
    }
   },
   "cell_type": "code",
   "source": [
    "pojemnosc_lookup = (\n",
    "    train_df[train_df['Pojemnosc_cm3'].notna()]\n",
    "    .groupby(['Marka_pojazdu', 'Model_pojazdu', 'Rodzaj_paliwa', 'Skrzynia_biegow'])['Pojemnosc_cm3']\n",
    "    .median()\n",
    "    .to_dict()\n",
    ")\n"
   ],
   "id": "848fe454cf74be57",
   "outputs": [],
   "execution_count": 701
  },
  {
   "metadata": {},
   "cell_type": "markdown",
   "source": [
    "### 🧪 Uzupełnianie braków w kolumnie Pojemnosc_cm3\n",
    " - Brakujące wartości w kolumnie Pojemnosc_cm3 zostały uzupełnione na podstawie mediany pojemności silnika dla danej kombinacji Marka_pojazdu, Model_pojazdu, Rodzaj_paliwa i Skrzynia_biegow. Wykorzystano wcześniej przygotowany słownik, co pozwala realistycznie odtworzyć brakujące dane techniczne i zwiększyć spójność zbioru."
   ],
   "id": "d42ccfb1deb2cd2f"
  },
  {
   "metadata": {
    "ExecuteTime": {
     "end_time": "2025-03-25T16:11:56.852200Z",
     "start_time": "2025-03-25T16:11:55.200309Z"
    }
   },
   "cell_type": "code",
   "source": [
    "train_df['Pojemnosc_cm3'] = train_df.apply(\n",
    "    lambda row: pojemnosc_lookup.get(\n",
    "        (row['Marka_pojazdu'], row['Model_pojazdu'], row['Rodzaj_paliwa'], row['Skrzynia_biegow']),\n",
    "        row['Pojemnosc_cm3']\n",
    "    ) if pd.isna(row['Pojemnosc_cm3']) else row['Pojemnosc_cm3'],\n",
    "    axis=1\n",
    ")\n"
   ],
   "id": "3c8af25db34fea4c",
   "outputs": [],
   "execution_count": 702
  },
  {
   "metadata": {
    "ExecuteTime": {
     "end_time": "2025-03-25T16:11:56.997833Z",
     "start_time": "2025-03-25T16:11:56.993702Z"
    }
   },
   "cell_type": "code",
   "source": "print(train_df['Pojemnosc_cm3'].isna().sum())\n",
   "id": "93b53d4e04155562",
   "outputs": [
    {
     "name": "stdout",
     "output_type": "stream",
     "text": [
      "807\n"
     ]
    }
   ],
   "execution_count": 703
  },
  {
   "metadata": {
    "ExecuteTime": {
     "end_time": "2025-03-25T16:11:57.175092Z",
     "start_time": "2025-03-25T16:11:57.133920Z"
    }
   },
   "cell_type": "code",
   "source": "print(train_df.isnull().sum())",
   "id": "a17ed60fe2c4b07",
   "outputs": [
    {
     "name": "stdout",
     "output_type": "stream",
     "text": [
      "Cena                                    0\n",
      "Stan                                   97\n",
      "Marka_pojazdu                           4\n",
      "Model_pojazdu                          27\n",
      "Rok_produkcji                           2\n",
      "                                       ..\n",
      "has_Blind spot sensor                   0\n",
      "has_CD changer                          0\n",
      "has_AUX socket                          0\n",
      "has_ESP(stabilization of the track)     0\n",
      "has_Parking assistant                   0\n",
      "Length: 85, dtype: int64\n"
     ]
    }
   ],
   "execution_count": 704
  },
  {
   "metadata": {},
   "cell_type": "markdown",
   "source": [
    "### 🧹 Usunięcie rekordów z brakującymi danymi\n",
    "- Wszystkie wiersze zawierające brakujące wartości (NaN) zostały usunięte ze zbioru danych. Ten krok zapewnia pełną kompletność danych przed trenowaniem modelu, co zapobiega błędom w trakcie uczenia i zwiększa stabilność działania algorytmów predykcyjnych."
   ],
   "id": "af24eec0d9130d99"
  },
  {
   "metadata": {
    "ExecuteTime": {
     "end_time": "2025-03-25T16:11:57.407630Z",
     "start_time": "2025-03-25T16:11:57.313512Z"
    }
   },
   "cell_type": "code",
   "source": "train_df.dropna(inplace=True)\n",
   "id": "b5ab195d66208bdc",
   "outputs": [],
   "execution_count": 705
  },
  {
   "metadata": {
    "ExecuteTime": {
     "end_time": "2025-03-25T16:11:57.578034Z",
     "start_time": "2025-03-25T16:11:57.536650Z"
    }
   },
   "cell_type": "code",
   "source": [
    "print(train_df.isna().sum())         \n",
    "print(train_df.shape[0])            \n"
   ],
   "id": "721dcb5fdad6cac7",
   "outputs": [
    {
     "name": "stdout",
     "output_type": "stream",
     "text": [
      "Cena                                   0\n",
      "Stan                                   0\n",
      "Marka_pojazdu                          0\n",
      "Model_pojazdu                          0\n",
      "Rok_produkcji                          0\n",
      "                                      ..\n",
      "has_Blind spot sensor                  0\n",
      "has_CD changer                         0\n",
      "has_AUX socket                         0\n",
      "has_ESP(stabilization of the track)    0\n",
      "has_Parking assistant                  0\n",
      "Length: 85, dtype: int64\n",
      "133561\n"
     ]
    }
   ],
   "execution_count": 706
  },
  {
   "metadata": {},
   "cell_type": "markdown",
   "source": [
    "### 📦 Import narzędzi do modelowania i podziału danych\n",
    "- Zaimportowano klasę TabularPredictor z biblioteki AutoGluon do trenowania modeli regresyjnych oraz funkcję train_test_split z biblioteki scikit-learn do podziału zbioru danych na część treningową i testową. Narzędzia te są wykorzystywane w procesie budowy, oceny i optymalizacji modelu predykcyjnego."
   ],
   "id": "252389f2559ba99f"
  },
  {
   "metadata": {
    "ExecuteTime": {
     "end_time": "2025-03-25T16:11:57.711518Z",
     "start_time": "2025-03-25T16:11:57.708132Z"
    }
   },
   "cell_type": "code",
   "source": [
    "from autogluon.tabular import TabularPredictor\n",
    "from sklearn.model_selection import train_test_split\n"
   ],
   "id": "f2c65b10dedb84f2",
   "outputs": [],
   "execution_count": 707
  },
  {
   "metadata": {},
   "cell_type": "markdown",
   "source": [
    "### 🎯 Określenie zmiennej docelowej i podział danych\n",
    "- Zmienna Cena została oznaczona jako zmienna docelowa, którą model ma przewidywać. Następnie cały zbiór danych został podzielony na część treningową (80%) i testową (20%) przy użyciu funkcji train_test_split, z ustalonym parametrem random_state=42 w celu zapewnienia powtarzalności wyników. Taki podział umożliwia niezależną ocenę jakości wytrenowanego modelu."
   ],
   "id": "23ecd6ce8969015d"
  },
  {
   "metadata": {
    "ExecuteTime": {
     "end_time": "2025-03-25T16:11:57.983252Z",
     "start_time": "2025-03-25T16:11:57.840217Z"
    }
   },
   "cell_type": "code",
   "source": [
    "target = 'Cena'  # zmienna, którą chcemy przewidywać\n",
    "\n",
    "# Podział na zbiór treningowy i testowy\n",
    "train_data, test_data = train_test_split(train_df, test_size=0.2, random_state=42)\n"
   ],
   "id": "8038a37a469fdb09",
   "outputs": [],
   "execution_count": 708
  },
  {
   "metadata": {},
   "cell_type": "markdown",
   "source": [
    "### 🤖 Trenowanie modelu AutoGluon z wykorzystaniem różnych algorytmów drzewiastych\n",
    "Użyto klasy TabularPredictor z biblioteki AutoGluon do wytrenowania modelu regresyjnego przewidującego wartość zmiennej Cena. W treningu wykorzystano kilka modeli bazujących na drzewach decyzyjnych: LightGBM, Random Forest, Extra Trees i XGBoost. Ustawiono metrykę oceny modelu na współczynnik determinacji r2.\n",
    "\n",
    "Dodatkowo włączono:\n",
    "\n",
    "- num_bag_folds=10 – 10-krotną walidację krzyżową w celu zwiększenia ogólności modelu,\n",
    "\n",
    "- num_stack_levels=3 – głęboki stacking modeli bazowych dla poprawy dokładności,\n",
    "\n",
    "- presets='best_quality' – zestaw ustawień skoncentrowany na jak najlepszych wynikach, niezależnie od czasu trenowania.\n",
    "\n",
    "Dzięki temu model maksymalnie wykorzystuje dostępne dane i techniki ensemble learningu."
   ],
   "id": "1e56097071657d23"
  },
  {
   "metadata": {
    "ExecuteTime": {
     "end_time": "2025-03-25T17:11:54.074896Z",
     "start_time": "2025-03-25T16:11:58.181006Z"
    }
   },
   "cell_type": "code",
   "source": [
    "from autogluon.tabular import TabularPredictor\n",
    "\n",
    "predictor = TabularPredictor(label='Cena', eval_metric='r2').fit(\n",
    "    train_data=train_df,\n",
    "    hyperparameters={\n",
    "        'GBM': {'extra_trees': False},  # LightGBM i LightGBMXT\n",
    "        'RF': {},                       # Random Forest\n",
    "        'XT': {},                       # Extra Trees                      # CatBoost\n",
    "        'XGB': {},                      # XGBoost\n",
    "    },\n",
    "    num_bag_folds=10,       \n",
    "    num_stack_levels=3,    \n",
    "    presets='best_quality' \n",
    ")\n"
   ],
   "id": "b7298af45e4ca363",
   "outputs": [
    {
     "name": "stderr",
     "output_type": "stream",
     "text": [
      "No path specified. Models will be saved in: \"AutogluonModels\\ag-20250325_161158\"\n",
      "Verbosity: 2 (Standard Logging)\n",
      "=================== System Info ===================\n",
      "AutoGluon Version:  1.2\n",
      "Python Version:     3.11.4\n",
      "Operating System:   Windows\n",
      "Platform Machine:   AMD64\n",
      "Platform Version:   10.0.19045\n",
      "CPU Count:          8\n",
      "Memory Avail:       8.88 GB / 23.97 GB (37.0%)\n",
      "Disk Space Avail:   5.99 GB / 465.23 GB (1.3%)\n",
      "\tWARNING: Available disk space is low and there is a risk that AutoGluon will run out of disk during fit, causing an exception. \n",
      "\tWe recommend a minimum available disk space of 10 GB, and large datasets may require more.\n",
      "===================================================\n",
      "Presets specified: ['best_quality']\n",
      "Setting dynamic_stacking from 'auto' to True. Reason: Enable dynamic_stacking when use_bag_holdout is disabled. (use_bag_holdout=False)\n",
      "Stack configuration (auto_stack=True): num_stack_levels=3, num_bag_folds=10, num_bag_sets=1\n",
      "DyStack is enabled (dynamic_stacking=True). AutoGluon will try to determine whether the input data is affected by stacked overfitting and enable or disable stacking as a consequence.\n",
      "\tThis is used to identify the optimal `num_stack_levels` value. Copies of AutoGluon will be fit on subsets of the data. Then holdout validation data is used to detect stacked overfitting.\n",
      "\tRunning DyStack for up to 900s of the 3600s of remaining time (25%).\n",
      "\t\tContext path: \"C:\\Users\\Kamil\\PycharmProjects\\pythonProject16\\AutogluonModels\\ag-20250325_161158\\ds_sub_fit\\sub_fit_ho\"\n",
      "Leaderboard on holdout data (DyStack):\n",
      "                  model  score_holdout  score_val eval_metric  pred_time_test  pred_time_val    fit_time  pred_time_test_marginal  pred_time_val_marginal  fit_time_marginal  stack_level  can_infer  fit_order\n",
      "0   WeightedEnsemble_L5       0.928362   0.864420          r2       12.771553      40.986961  749.683477                 0.019999                0.002999           0.633001            5       True         19\n",
      "1       LightGBM_BAG_L1       0.927410   0.859339          r2        2.992002      11.423060   61.442547                 2.992002               11.423060          61.442547            1       True          1\n",
      "2   WeightedEnsemble_L3       0.927286   0.862614          r2        6.971038      30.467067  519.461811                 0.018000                0.001998           0.179001            3       True         10\n",
      "3   WeightedEnsemble_L2       0.926786   0.862117          r2        4.182999      20.138029  263.578658                 0.003999                0.001997           0.151998            2       True          5\n",
      "4       LightGBM_BAG_L4       0.926011   0.856373          r2       12.751554      40.983962  749.050476                 1.076002                1.422983          14.938027            4       True         16\n",
      "5     ExtraTrees_BAG_L2       0.925977   0.851736          r2        5.613518      22.358999  320.014086                 0.202517                1.385964          43.082428            2       True          8\n",
      "6       LightGBM_BAG_L2       0.923250   0.859671          r2        5.970001      22.511035  292.185658                 0.559000                1.538000          15.254000            2       True          6\n",
      "7     ExtraTrees_BAG_L3       0.921214   0.839429          r2        8.616040      32.785040  571.454102                 0.205000                1.373997          42.325262            3       True         13\n",
      "8   RandomForest_BAG_L2       0.920816   0.831590          r2        6.191521      27.541106  460.946382                 0.780520                6.568070         184.014724            2       True          7\n",
      "9   WeightedEnsemble_L4       0.913853   0.855956          r2       10.164549      38.644983  722.118459                 0.017998                0.001997           0.158007            4       True         15\n",
      "10      LightGBM_BAG_L3       0.904401   0.854183          r2        9.303039      32.414987  541.414868                 0.891999                1.003944          12.286028            3       True         11\n",
      "11  RandomForest_BAG_L3       0.901240   0.834282          r2        9.049552      36.265044  667.349162                 0.638512                4.854001         138.220322            3       True         12\n",
      "12    ExtraTrees_BAG_L1       0.889443   0.820525          r2        0.287998       2.084000   56.613934                 0.287998                2.084000          56.613934            1       True          3\n",
      "13  RandomForest_BAG_L4       0.885490   0.835944          r2       11.976551      41.529978  792.723020                 0.300998                1.968999          58.610571            4       True         17\n",
      "14  RandomForest_BAG_L1       0.872533   0.825126          r2        0.899000       6.628972  145.370179                 0.899000                6.628972         145.370179            1       True          2\n",
      "15       XGBoost_BAG_L4       0.862830   0.781227          r2       13.169555      40.576949  751.686451                 1.494002                1.015970          17.574002            4       True         18\n",
      "16       XGBoost_BAG_L1       0.681361   0.615300          r2        1.232001       0.837003   13.504998                 1.232001                0.837003          13.504998            1       True          4\n",
      "17       XGBoost_BAG_L3       0.626467   0.543164          r2        9.940041      32.329037  541.280837                 1.529001                0.917994          12.151997            3       True         14\n",
      "18       XGBoost_BAG_L2       0.309473   0.265287          r2        6.869003      21.919009  286.777688                 1.458002                0.945974           9.846030            2       True          9\n",
      "\t3\t = Optimal   num_stack_levels (Stacked Overfitting Occurred: False)\n",
      "\t922s\t = DyStack   runtime |\t2678s\t = Remaining runtime\n",
      "Starting main fit with num_stack_levels=3.\n",
      "\tFor future fit calls on this dataset, you can skip DyStack to save time: `predictor.fit(..., dynamic_stacking=False, num_stack_levels=3)`\n",
      "Beginning AutoGluon training ... Time limit = 2678s\n",
      "AutoGluon will save models to \"C:\\Users\\Kamil\\PycharmProjects\\pythonProject16\\AutogluonModels\\ag-20250325_161158\"\n",
      "Train Data Rows:    133561\n",
      "Train Data Columns: 84\n",
      "Label Column:       Cena\n",
      "Problem Type:       regression\n",
      "Preprocessing data ...\n",
      "Using Feature Generators to preprocess the data ...\n",
      "Fitting AutoMLPipelineFeatureGenerator...\n",
      "\tAvailable Memory:                    10932.43 MB\n",
      "\tTrain Data (Original)  Memory Usage: 142.94 MB (1.3% of available memory)\n",
      "\tInferring data type of each feature based on column values. Set feature_metadata_in to manually specify special dtypes of the features.\n",
      "\tStage 1 Generators:\n",
      "\t\tFitting AsTypeFeatureGenerator...\n",
      "\t\t\tNote: Converting 73 features to boolean dtype as they only contain 2 unique values.\n",
      "\tStage 2 Generators:\n",
      "\t\tFitting FillNaFeatureGenerator...\n",
      "\tStage 3 Generators:\n",
      "\t\tFitting IdentityFeatureGenerator...\n",
      "\t\tFitting CategoryFeatureGenerator...\n",
      "\t\t\tFitting CategoryMemoryMinimizeFeatureGenerator...\n",
      "\tStage 4 Generators:\n",
      "\t\tFitting DropUniqueFeatureGenerator...\n",
      "\tStage 5 Generators:\n",
      "\t\tFitting DropDuplicatesFeatureGenerator...\n",
      "\tTypes of features in original data (raw dtype, special dtypes):\n",
      "\t\t('float', [])  :  5 | ['Rok_produkcji', 'Przebieg_km', 'Moc_KM', 'Pojemnosc_cm3', 'Liczba_drzwi']\n",
      "\t\t('int', [])    : 71 | ['Pierwszy_wlasciciel', 'has_Drivers airbag', 'has_Electrochromic rear view mirror', 'has_Heated rear seats', 'has_LED lights', ...]\n",
      "\t\t('object', []) :  8 | ['Stan', 'Marka_pojazdu', 'Model_pojazdu', 'Rodzaj_paliwa', 'Naped', ...]\n",
      "\tTypes of features in processed data (raw dtype, special dtypes):\n",
      "\t\t('category', [])  :  6 | ['Marka_pojazdu', 'Model_pojazdu', 'Rodzaj_paliwa', 'Naped', 'Typ_nadwozia', ...]\n",
      "\t\t('float', [])     :  5 | ['Rok_produkcji', 'Przebieg_km', 'Moc_KM', 'Pojemnosc_cm3', 'Liczba_drzwi']\n",
      "\t\t('int', ['bool']) : 73 | ['Stan', 'Skrzynia_biegow', 'Pierwszy_wlasciciel', 'has_Drivers airbag', 'has_Electrochromic rear view mirror', ...]\n",
      "\t1.1s = Fit runtime\n",
      "\t84 features in original data used to generate 84 features in processed data.\n",
      "\tTrain Data (Processed) Memory Usage: 15.29 MB (0.1% of available memory)\n",
      "Data preprocessing and feature engineering runtime = 1.3s ...\n",
      "AutoGluon will gauge predictive performance using evaluation metric: 'r2'\n",
      "\tTo change this, specify the eval_metric parameter of Predictor()\n",
      "User-specified model hyperparameters to be fit:\n",
      "{\n",
      "\t'GBM': [{'extra_trees': False}],\n",
      "\t'RF': [{}],\n",
      "\t'XT': [{}],\n",
      "\t'XGB': [{}],\n",
      "}\n",
      "AutoGluon will fit 4 stack levels (L1 to L4) ...\n",
      "Fitting 4 L1 models, fit_strategy=\"sequential\" ...\n",
      "Fitting model: LightGBM_BAG_L1 ... Training model for up to 891.87s of the 2676.29s of remaining time.\n",
      "\tFitting 10 child models (S1F1 - S1F10) | Fitting with ParallelLocalFoldFittingStrategy (8 workers, per: cpus=1, gpus=0, memory=1.06%)\n",
      "\t0.8696\t = Validation score   (r2)\n",
      "\t26.66s\t = Training   runtime\n",
      "\t6.02s\t = Validation runtime\n",
      "Fitting model: RandomForest_BAG_L1 ... Training model for up to 859.86s of the 2644.27s of remaining time.\n",
      "\t0.8389\t = Validation score   (r2)\n",
      "\t162.96s\t = Training   runtime\n",
      "\t9.63s\t = Validation runtime\n",
      "Fitting model: ExtraTrees_BAG_L1 ... Training model for up to 686.66s of the 2471.07s of remaining time.\n",
      "\t0.8401\t = Validation score   (r2)\n",
      "\t196.58s\t = Training   runtime\n",
      "\t9.5s\t = Validation runtime\n",
      "Fitting model: XGBoost_BAG_L1 ... Training model for up to 479.94s of the 2264.36s of remaining time.\n",
      "\tFitting 10 child models (S1F1 - S1F10) | Fitting with ParallelLocalFoldFittingStrategy (8 workers, per: cpus=1, gpus=0, memory=1.62%)\n",
      "\t0.8533\t = Validation score   (r2)\n",
      "\t303.47s\t = Training   runtime\n",
      "\t5.9s\t = Validation runtime\n",
      "Fitting model: WeightedEnsemble_L2 ... Training model for up to 360.00s of the 1955.30s of remaining time.\n",
      "\tEnsemble Weights: {'LightGBM_BAG_L1': 0.667, 'XGBoost_BAG_L1': 0.167, 'ExtraTrees_BAG_L1': 0.111, 'RandomForest_BAG_L1': 0.056}\n",
      "\t0.8722\t = Validation score   (r2)\n",
      "\t0.41s\t = Training   runtime\n",
      "\t0.0s\t = Validation runtime\n",
      "Fitting 4 L2 models, fit_strategy=\"sequential\" ...\n",
      "Fitting model: LightGBM_BAG_L2 ... Training model for up to 868.61s of the 1954.86s of remaining time.\n",
      "\tFitting 10 child models (S1F1 - S1F10) | Fitting with ParallelLocalFoldFittingStrategy (8 workers, per: cpus=1, gpus=0, memory=1.22%)\n",
      "\t0.8694\t = Validation score   (r2)\n",
      "\t14.62s\t = Training   runtime\n",
      "\t1.37s\t = Validation runtime\n",
      "Fitting model: RandomForest_BAG_L2 ... Training model for up to 842.94s of the 1929.18s of remaining time.\n",
      "\t0.8541\t = Validation score   (r2)\n",
      "\t224.17s\t = Training   runtime\n",
      "\t10.36s\t = Validation runtime\n",
      "Fitting model: ExtraTrees_BAG_L2 ... Training model for up to 607.80s of the 1694.05s of remaining time.\n",
      "\t0.8657\t = Validation score   (r2)\n",
      "\t216.64s\t = Training   runtime\n",
      "\t9.55s\t = Validation runtime\n",
      "Fitting model: XGBoost_BAG_L2 ... Training model for up to 380.95s of the 1467.20s of remaining time.\n",
      "\tFitting 10 child models (S1F1 - S1F10) | Fitting with ParallelLocalFoldFittingStrategy (8 workers, per: cpus=1, gpus=0, memory=1.75%)\n",
      "\t0.859\t = Validation score   (r2)\n",
      "\t186.98s\t = Training   runtime\n",
      "\t2.56s\t = Validation runtime\n",
      "Fitting model: WeightedEnsemble_L3 ... Training model for up to 360.00s of the 1275.06s of remaining time.\n",
      "\tEnsemble Weights: {'LightGBM_BAG_L2': 0.474, 'ExtraTrees_BAG_L2': 0.316, 'XGBoost_BAG_L2': 0.158, 'RandomForest_BAG_L2': 0.053}\n",
      "\t0.8722\t = Validation score   (r2)\n",
      "\t0.49s\t = Training   runtime\n",
      "\t0.0s\t = Validation runtime\n",
      "Fitting 4 L3 models, fit_strategy=\"sequential\" ...\n",
      "Fitting model: LightGBM_BAG_L3 ... Training model for up to 849.49s of the 1274.54s of remaining time.\n",
      "\tFitting 10 child models (S1F1 - S1F10) | Fitting with ParallelLocalFoldFittingStrategy (8 workers, per: cpus=1, gpus=0, memory=1.19%)\n",
      "\t0.8657\t = Validation score   (r2)\n",
      "\t61.15s\t = Training   runtime\n",
      "\t5.17s\t = Validation runtime\n",
      "Fitting model: RandomForest_BAG_L3 ... Training model for up to 778.85s of the 1203.90s of remaining time.\n",
      "\t0.8352\t = Validation score   (r2)\n",
      "\t251.49s\t = Training   runtime\n",
      "\t10.87s\t = Validation runtime\n",
      "Fitting model: ExtraTrees_BAG_L3 ... Training model for up to 515.89s of the 940.94s of remaining time.\n",
      "\t0.8648\t = Validation score   (r2)\n",
      "\t219.47s\t = Training   runtime\n",
      "\t9.52s\t = Validation runtime\n",
      "Fitting model: XGBoost_BAG_L3 ... Training model for up to 286.29s of the 711.35s of remaining time.\n",
      "\tFitting 10 child models (S1F1 - S1F10) | Fitting with ParallelLocalFoldFittingStrategy (8 workers, per: cpus=1, gpus=0, memory=1.80%)\n",
      "\t0.8584\t = Validation score   (r2)\n",
      "\t114.65s\t = Training   runtime\n",
      "\t1.47s\t = Validation runtime\n",
      "Fitting model: WeightedEnsemble_L4 ... Training model for up to 360.00s of the 591.58s of remaining time.\n",
      "\tEnsemble Weights: {'ExtraTrees_BAG_L3': 0.438, 'LightGBM_BAG_L3': 0.312, 'XGBoost_BAG_L3': 0.25}\n",
      "\t0.8708\t = Validation score   (r2)\n",
      "\t0.5s\t = Training   runtime\n",
      "\t0.0s\t = Validation runtime\n",
      "Fitting 4 L4 models, fit_strategy=\"sequential\" ...\n",
      "Fitting model: LightGBM_BAG_L4 ... Training model for up to 591.06s of the 591.05s of remaining time.\n",
      "\tFitting 10 child models (S1F1 - S1F10) | Fitting with ParallelLocalFoldFittingStrategy (8 workers, per: cpus=1, gpus=0, memory=1.19%)\n",
      "\t0.866\t = Validation score   (r2)\n",
      "\t22.59s\t = Training   runtime\n",
      "\t2.31s\t = Validation runtime\n",
      "Fitting model: RandomForest_BAG_L4 ... Training model for up to 563.07s of the 563.06s of remaining time.\n",
      "\t0.8512\t = Validation score   (r2)\n",
      "\t250.54s\t = Training   runtime\n",
      "\t10.58s\t = Validation runtime\n",
      "Fitting model: ExtraTrees_BAG_L4 ... Training model for up to 301.32s of the 301.30s of remaining time.\n",
      "\t0.8645\t = Validation score   (r2)\n",
      "\t219.85s\t = Training   runtime\n",
      "\t10.01s\t = Validation runtime\n",
      "Fitting model: XGBoost_BAG_L4 ... Training model for up to 70.73s of the 70.72s of remaining time.\n",
      "\tFitting 10 child models (S1F1 - S1F10) | Fitting with ParallelLocalFoldFittingStrategy (8 workers, per: cpus=1, gpus=0, memory=1.79%)\n",
      "\t0.854\t = Validation score   (r2)\n",
      "\t59.89s\t = Training   runtime\n",
      "\t1.32s\t = Validation runtime\n",
      "Fitting model: WeightedEnsemble_L5 ... Training model for up to 360.00s of the 5.83s of remaining time.\n",
      "\tEnsemble Weights: {'LightGBM_BAG_L1': 0.364, 'LightGBM_BAG_L2': 0.182, 'XGBoost_BAG_L1': 0.091, 'ExtraTrees_BAG_L3': 0.091, 'XGBoost_BAG_L3': 0.091, 'LightGBM_BAG_L4': 0.091, 'ExtraTrees_BAG_L1': 0.045, 'ExtraTrees_BAG_L4': 0.045}\n",
      "\t0.8741\t = Validation score   (r2)\n",
      "\t1.61s\t = Training   runtime\n",
      "\t0.0s\t = Validation runtime\n",
      "AutoGluon training complete, total runtime = 2673.42s ... Best model: WeightedEnsemble_L5 | Estimated inference throughput: 420.9 rows/s (13357 batch size)\n",
      "TabularPredictor saved. To load, use: predictor = TabularPredictor.load(\"C:\\Users\\Kamil\\PycharmProjects\\pythonProject16\\AutogluonModels\\ag-20250325_161158\")\n"
     ]
    }
   ],
   "execution_count": 709
  },
  {
   "metadata": {},
   "cell_type": "markdown",
   "source": [
    "### 🏆 Wybór najlepszego modelu\n",
    "- Zmienna best_model przechowuje nazwę najlepszego modelu wybranego automatycznie przez AutoGluon na podstawie ustawionej metryki (r2). Wyświetlenie tej informacji pozwala zidentyfikować, który algorytm osiągnął najwyższą skuteczność w predykcji ceny pojazdu."
   ],
   "id": "54184f2603596736"
  },
  {
   "metadata": {
    "ExecuteTime": {
     "end_time": "2025-03-25T17:11:54.651810Z",
     "start_time": "2025-03-25T17:11:54.647582Z"
    }
   },
   "cell_type": "code",
   "source": [
    "best_model = predictor.model_best\n",
    "print(f\"✅ Najlepszy model: {best_model}\")\n"
   ],
   "id": "3a9219d73f6b89f4",
   "outputs": [
    {
     "name": "stdout",
     "output_type": "stream",
     "text": [
      "✅ Najlepszy model: WeightedEnsemble_L5\n"
     ]
    }
   ],
   "execution_count": 711
  },
  {
   "metadata": {},
   "cell_type": "markdown",
   "source": [
    "### 📊 Odczyt wyniku najlepszego modelu\n",
    "- Za pomocą predictor.leaderboard() pobrano tabelę zawierającą szczegółowe wyniki wszystkich wytrenowanych modeli. Następnie odczytano wartość metryki r2 dla najlepszego modelu (best_model) i wyświetlono ją w formacie z czterema miejscami po przecinku. Pozwala to ocenić, jak dobrze model dopasował się do danych treningowych."
   ],
   "id": "9556ea2fa1e8ef8"
  },
  {
   "metadata": {
    "ExecuteTime": {
     "end_time": "2025-03-25T17:11:54.798069Z",
     "start_time": "2025-03-25T17:11:54.789846Z"
    }
   },
   "cell_type": "code",
   "source": [
    "leaderboard = predictor.leaderboard(silent=True)\n",
    "best_score = leaderboard.loc[leaderboard['model'] == best_model, 'score_val'].values[0]\n",
    "\n",
    "print(f\"🎯 R² najlepszego modelu: {best_score:.4f}\")"
   ],
   "id": "35fe935f66522643",
   "outputs": [
    {
     "name": "stdout",
     "output_type": "stream",
     "text": [
      "🎯 R² najlepszego modelu: 0.8741\n"
     ]
    }
   ],
   "execution_count": 712
  },
  {
   "metadata": {
    "ExecuteTime": {
     "end_time": "2025-03-25T17:11:55.682729Z",
     "start_time": "2025-03-25T17:11:54.923873Z"
    }
   },
   "cell_type": "code",
   "source": [
    "test_file = [f for f in files if 'test' in f][0]  # Znajduje plik z 'train' w nazwie\n",
    "test_df = pd.read_csv(f\"./data/{test_file}\")"
   ],
   "id": "d912795f38415404",
   "outputs": [],
   "execution_count": 713
  },
  {
   "metadata": {
    "ExecuteTime": {
     "end_time": "2025-03-25T17:11:55.835083Z",
     "start_time": "2025-03-25T17:11:55.820088Z"
    }
   },
   "cell_type": "code",
   "source": "test_df.head()",
   "id": "5b8c6def867de0b6",
   "outputs": [
    {
     "data": {
      "text/plain": [
       "   ID Waluta  Stan  Marka_pojazdu Model_pojazdu            Wersja_pojazdu  \\\n",
       "0   1    PLN   New  Mercedes-Benz           GLC             200 d 4-Matic   \n",
       "1   2    PLN  Used           Ford        Mondeo                       2.0   \n",
       "2   3    PLN  Used            BMW       Seria 5                       NaN   \n",
       "3   4    PLN   New           Seat          Leon                1.5 TSI FR   \n",
       "4   5    PLN  Used           Audi            A6  3.0 TDI Quattro S tronic   \n",
       "\n",
       "     Generacja_pojazdu  Rok_produkcji  Przebieg_km  Moc_KM  ...  \\\n",
       "0                  NaN           2021          1.0   163.0  ...   \n",
       "1      Mk4 (2007-2014)           2008     202585.0   145.0  ...   \n",
       "2  E60/E61 (2003-2010)           2005     373000.0   218.0  ...   \n",
       "3         IV (2020 - )           2021         10.0   130.0  ...   \n",
       "4       C7 (2011-2018)           2014     150000.0   245.0  ...   \n",
       "\n",
       "   Skrzynia_biegow   Typ_nadwozia  Liczba_drzwi  Kolor Kraj_pochodzenia  \\\n",
       "0        Automatic            SUV           5.0  black           Poland   \n",
       "1           Manual  station_wagon           5.0  other              NaN   \n",
       "2        Automatic          sedan           5.0   gray              NaN   \n",
       "3           Manual        compact           5.0  white              NaN   \n",
       "4        Automatic  station_wagon           5.0   gray          Germany   \n",
       "\n",
       "  Pierwszy_wlasciciel  Data_pierwszej_rejestracji Data_publikacji_oferty  \\\n",
       "0                 Yes                         NaN             30/04/2021   \n",
       "1                 NaN                         NaN             02/05/2021   \n",
       "2                 NaN                         NaN             02/05/2021   \n",
       "3                 NaN                         NaN             03/05/2021   \n",
       "4                 NaN                         NaN             27/04/2021   \n",
       "\n",
       "                                  Lokalizacja_oferty  \\\n",
       "0  Władysława IV 43 - 81-395 Gdynia, Śródmieście ...   \n",
       "1  Słoneczna 1 - 99-300 Kutno, kutnowski, Łódzkie...   \n",
       "2                      Włocławek, Kujawsko-pomorskie   \n",
       "3  Lubelska 50D - 35-233 Rzeszów, Podkarpackie (P...   \n",
       "4  PADEREWSKIEGO 124 - 42-400 Zawiercie, Warty (P...   \n",
       "\n",
       "                                         Wyposazenie  \n",
       "0  ['ABS', 'Electric front windows', 'Drivers air...  \n",
       "1  ['ABS', 'Electric front windows', 'Drivers air...  \n",
       "2  ['ABS', 'Electric front windows', 'Drivers air...  \n",
       "3  ['ABS', 'Electrically adjustable mirrors', 'Pa...  \n",
       "4  ['ABS', 'Electric front windows', 'Drivers air...  \n",
       "\n",
       "[5 rows x 24 columns]"
      ],
      "text/html": [
       "<div>\n",
       "<style scoped>\n",
       "    .dataframe tbody tr th:only-of-type {\n",
       "        vertical-align: middle;\n",
       "    }\n",
       "\n",
       "    .dataframe tbody tr th {\n",
       "        vertical-align: top;\n",
       "    }\n",
       "\n",
       "    .dataframe thead th {\n",
       "        text-align: right;\n",
       "    }\n",
       "</style>\n",
       "<table border=\"1\" class=\"dataframe\">\n",
       "  <thead>\n",
       "    <tr style=\"text-align: right;\">\n",
       "      <th></th>\n",
       "      <th>ID</th>\n",
       "      <th>Waluta</th>\n",
       "      <th>Stan</th>\n",
       "      <th>Marka_pojazdu</th>\n",
       "      <th>Model_pojazdu</th>\n",
       "      <th>Wersja_pojazdu</th>\n",
       "      <th>Generacja_pojazdu</th>\n",
       "      <th>Rok_produkcji</th>\n",
       "      <th>Przebieg_km</th>\n",
       "      <th>Moc_KM</th>\n",
       "      <th>...</th>\n",
       "      <th>Skrzynia_biegow</th>\n",
       "      <th>Typ_nadwozia</th>\n",
       "      <th>Liczba_drzwi</th>\n",
       "      <th>Kolor</th>\n",
       "      <th>Kraj_pochodzenia</th>\n",
       "      <th>Pierwszy_wlasciciel</th>\n",
       "      <th>Data_pierwszej_rejestracji</th>\n",
       "      <th>Data_publikacji_oferty</th>\n",
       "      <th>Lokalizacja_oferty</th>\n",
       "      <th>Wyposazenie</th>\n",
       "    </tr>\n",
       "  </thead>\n",
       "  <tbody>\n",
       "    <tr>\n",
       "      <th>0</th>\n",
       "      <td>1</td>\n",
       "      <td>PLN</td>\n",
       "      <td>New</td>\n",
       "      <td>Mercedes-Benz</td>\n",
       "      <td>GLC</td>\n",
       "      <td>200 d 4-Matic</td>\n",
       "      <td>NaN</td>\n",
       "      <td>2021</td>\n",
       "      <td>1.0</td>\n",
       "      <td>163.0</td>\n",
       "      <td>...</td>\n",
       "      <td>Automatic</td>\n",
       "      <td>SUV</td>\n",
       "      <td>5.0</td>\n",
       "      <td>black</td>\n",
       "      <td>Poland</td>\n",
       "      <td>Yes</td>\n",
       "      <td>NaN</td>\n",
       "      <td>30/04/2021</td>\n",
       "      <td>Władysława IV 43 - 81-395 Gdynia, Śródmieście ...</td>\n",
       "      <td>['ABS', 'Electric front windows', 'Drivers air...</td>\n",
       "    </tr>\n",
       "    <tr>\n",
       "      <th>1</th>\n",
       "      <td>2</td>\n",
       "      <td>PLN</td>\n",
       "      <td>Used</td>\n",
       "      <td>Ford</td>\n",
       "      <td>Mondeo</td>\n",
       "      <td>2.0</td>\n",
       "      <td>Mk4 (2007-2014)</td>\n",
       "      <td>2008</td>\n",
       "      <td>202585.0</td>\n",
       "      <td>145.0</td>\n",
       "      <td>...</td>\n",
       "      <td>Manual</td>\n",
       "      <td>station_wagon</td>\n",
       "      <td>5.0</td>\n",
       "      <td>other</td>\n",
       "      <td>NaN</td>\n",
       "      <td>NaN</td>\n",
       "      <td>NaN</td>\n",
       "      <td>02/05/2021</td>\n",
       "      <td>Słoneczna 1 - 99-300 Kutno, kutnowski, Łódzkie...</td>\n",
       "      <td>['ABS', 'Electric front windows', 'Drivers air...</td>\n",
       "    </tr>\n",
       "    <tr>\n",
       "      <th>2</th>\n",
       "      <td>3</td>\n",
       "      <td>PLN</td>\n",
       "      <td>Used</td>\n",
       "      <td>BMW</td>\n",
       "      <td>Seria 5</td>\n",
       "      <td>NaN</td>\n",
       "      <td>E60/E61 (2003-2010)</td>\n",
       "      <td>2005</td>\n",
       "      <td>373000.0</td>\n",
       "      <td>218.0</td>\n",
       "      <td>...</td>\n",
       "      <td>Automatic</td>\n",
       "      <td>sedan</td>\n",
       "      <td>5.0</td>\n",
       "      <td>gray</td>\n",
       "      <td>NaN</td>\n",
       "      <td>NaN</td>\n",
       "      <td>NaN</td>\n",
       "      <td>02/05/2021</td>\n",
       "      <td>Włocławek, Kujawsko-pomorskie</td>\n",
       "      <td>['ABS', 'Electric front windows', 'Drivers air...</td>\n",
       "    </tr>\n",
       "    <tr>\n",
       "      <th>3</th>\n",
       "      <td>4</td>\n",
       "      <td>PLN</td>\n",
       "      <td>New</td>\n",
       "      <td>Seat</td>\n",
       "      <td>Leon</td>\n",
       "      <td>1.5 TSI FR</td>\n",
       "      <td>IV (2020 - )</td>\n",
       "      <td>2021</td>\n",
       "      <td>10.0</td>\n",
       "      <td>130.0</td>\n",
       "      <td>...</td>\n",
       "      <td>Manual</td>\n",
       "      <td>compact</td>\n",
       "      <td>5.0</td>\n",
       "      <td>white</td>\n",
       "      <td>NaN</td>\n",
       "      <td>NaN</td>\n",
       "      <td>NaN</td>\n",
       "      <td>03/05/2021</td>\n",
       "      <td>Lubelska 50D - 35-233 Rzeszów, Podkarpackie (P...</td>\n",
       "      <td>['ABS', 'Electrically adjustable mirrors', 'Pa...</td>\n",
       "    </tr>\n",
       "    <tr>\n",
       "      <th>4</th>\n",
       "      <td>5</td>\n",
       "      <td>PLN</td>\n",
       "      <td>Used</td>\n",
       "      <td>Audi</td>\n",
       "      <td>A6</td>\n",
       "      <td>3.0 TDI Quattro S tronic</td>\n",
       "      <td>C7 (2011-2018)</td>\n",
       "      <td>2014</td>\n",
       "      <td>150000.0</td>\n",
       "      <td>245.0</td>\n",
       "      <td>...</td>\n",
       "      <td>Automatic</td>\n",
       "      <td>station_wagon</td>\n",
       "      <td>5.0</td>\n",
       "      <td>gray</td>\n",
       "      <td>Germany</td>\n",
       "      <td>NaN</td>\n",
       "      <td>NaN</td>\n",
       "      <td>27/04/2021</td>\n",
       "      <td>PADEREWSKIEGO 124 - 42-400 Zawiercie, Warty (P...</td>\n",
       "      <td>['ABS', 'Electric front windows', 'Drivers air...</td>\n",
       "    </tr>\n",
       "  </tbody>\n",
       "</table>\n",
       "<p>5 rows × 24 columns</p>\n",
       "</div>"
      ]
     },
     "execution_count": 714,
     "metadata": {},
     "output_type": "execute_result"
    }
   ],
   "execution_count": 714
  },
  {
   "metadata": {
    "ExecuteTime": {
     "end_time": "2025-03-25T17:11:56.043103Z",
     "start_time": "2025-03-25T17:11:56.002337Z"
    }
   },
   "cell_type": "code",
   "source": "print(test_df.isnull().sum())",
   "id": "9e04182df6acbda",
   "outputs": [
    {
     "name": "stdout",
     "output_type": "stream",
     "text": [
      "ID                                0\n",
      "Waluta                            0\n",
      "Stan                              0\n",
      "Marka_pojazdu                     0\n",
      "Model_pojazdu                     0\n",
      "Wersja_pojazdu                24513\n",
      "Generacja_pojazdu             21173\n",
      "Rok_produkcji                     0\n",
      "Przebieg_km                     330\n",
      "Moc_KM                          229\n",
      "Pojemnosc_cm3                   686\n",
      "Rodzaj_paliwa                     0\n",
      "Emisja_CO2                    39961\n",
      "Naped                          5132\n",
      "Skrzynia_biegow                 163\n",
      "Typ_nadwozia                      0\n",
      "Liczba_drzwi                    538\n",
      "Kolor                             0\n",
      "Kraj_pochodzenia              31482\n",
      "Pierwszy_wlasciciel           49746\n",
      "Data_pierwszej_rejestracji    42626\n",
      "Data_publikacji_oferty            0\n",
      "Lokalizacja_oferty                0\n",
      "Wyposazenie                       0\n",
      "dtype: int64\n"
     ]
    }
   ],
   "execution_count": 715
  },
  {
   "metadata": {
    "ExecuteTime": {
     "end_time": "2025-03-25T17:11:56.309700Z",
     "start_time": "2025-03-25T17:11:56.299534Z"
    }
   },
   "cell_type": "code",
   "source": "test_df.drop(columns=['ID','Data_pierwszej_rejestracji','Emisja_CO2','Wersja_pojazdu','Generacja_pojazdu','Kraj_pochodzenia','Data_publikacji_oferty'], inplace=True)",
   "id": "aaacc39907fb3f52",
   "outputs": [],
   "execution_count": 716
  },
  {
   "metadata": {
    "ExecuteTime": {
     "end_time": "2025-03-25T17:11:56.343956Z",
     "start_time": "2025-03-25T17:11:56.335710Z"
    }
   },
   "cell_type": "code",
   "source": "test_df['Pierwszy_wlasciciel'] = test_df['Pierwszy_wlasciciel'].map({'Yes': 1}).fillna(0).astype(int)",
   "id": "dfc3bd51946e756f",
   "outputs": [],
   "execution_count": 717
  },
  {
   "metadata": {
    "ExecuteTime": {
     "end_time": "2025-03-25T17:11:56.472978Z",
     "start_time": "2025-03-25T17:11:56.460687Z"
    }
   },
   "cell_type": "code",
   "source": [
    "missing_naped_df = test_df[test_df['Naped'].isna()]\n",
    "\n",
    "\n",
    "print(missing_naped_df[['Marka_pojazdu', 'Model_pojazdu']].drop_duplicates())"
   ],
   "id": "806df28451990184",
   "outputs": [
    {
     "name": "stdout",
     "output_type": "stream",
     "text": [
      "      Marka_pojazdu Model_pojazdu\n",
      "5              Ford         Focus\n",
      "20        Chevrolet       Captiva\n",
      "29       Volkswagen   Transporter\n",
      "43           Suzuki  Grand Vitara\n",
      "54             Fiat        Ulysse\n",
      "...             ...           ...\n",
      "71401         Mazda           121\n",
      "71522          Opel        Ascona\n",
      "71588          Jeep        Willys\n",
      "71833        Lancia         Delta\n",
      "72660         Aixam      Roadline\n",
      "\n",
      "[670 rows x 2 columns]\n"
     ]
    }
   ],
   "execution_count": 718
  },
  {
   "metadata": {
    "ExecuteTime": {
     "end_time": "2025-03-25T17:11:56.625394Z",
     "start_time": "2025-03-25T17:11:56.584212Z"
    }
   },
   "cell_type": "code",
   "source": [
    "test_df['Naped'] = test_df['Naped'].fillna(\n",
    "    test_df.groupby('Marka_pojazdu')['Naped'].transform(lambda x: x.mode().iloc[0] if not x.mode().empty else None)\n",
    ")"
   ],
   "id": "f49d16176e37513b",
   "outputs": [],
   "execution_count": 719
  },
  {
   "metadata": {
    "ExecuteTime": {
     "end_time": "2025-03-25T17:11:56.761754Z",
     "start_time": "2025-03-25T17:11:56.757157Z"
    }
   },
   "cell_type": "code",
   "source": [
    "def przypisz_przebieg(row, df):\n",
    "    if pd.notna(row['Przebieg_km']):\n",
    "        return row['Przebieg_km']\n",
    "\n",
    "    \n",
    "    podobne = df[\n",
    "        (df['Model_pojazdu'] == row['Model_pojazdu']) &\n",
    "        (df['Rok_produkcji'] == row['Rok_produkcji']) &\n",
    "        (df['Przebieg_km'].notna())\n",
    "    ]\n",
    "\n",
    "    if podobne.empty:\n",
    "        return np.nan\n",
    "\n",
    "    \n",
    "    return podobne['Przebieg_km'].median()"
   ],
   "id": "9b531f08e14ca940",
   "outputs": [],
   "execution_count": 720
  },
  {
   "metadata": {
    "ExecuteTime": {
     "end_time": "2025-03-25T17:11:59.317865Z",
     "start_time": "2025-03-25T17:11:56.879573Z"
    }
   },
   "cell_type": "code",
   "source": "test_df['Przebieg_km'] = test_df.apply(lambda row: przypisz_przebieg(row, test_df), axis=1)",
   "id": "433b064b82007f78",
   "outputs": [],
   "execution_count": 721
  },
  {
   "metadata": {
    "ExecuteTime": {
     "end_time": "2025-03-25T17:11:59.433012Z",
     "start_time": "2025-03-25T17:11:59.429142Z"
    }
   },
   "cell_type": "code",
   "source": [
    "def przypisz_moc(row, df):\n",
    "    if pd.notna(row['Moc_KM']):\n",
    "        return row['Moc_KM']\n",
    "\n",
    "   \n",
    "    podobne = df[\n",
    "        (df['Model_pojazdu'] == row['Model_pojazdu']) &\n",
    "        (df['Pojemnosc_cm3'] == row['Pojemnosc_cm3']) &\n",
    "        (df['Moc_KM'].notna())\n",
    "    ]\n",
    "\n",
    "    if podobne.empty:\n",
    "        return np.nan\n",
    "\n",
    "    \n",
    "    return podobne['Moc_KM'].median()"
   ],
   "id": "1d960aadfb9a4cc3",
   "outputs": [],
   "execution_count": 722
  },
  {
   "metadata": {
    "ExecuteTime": {
     "end_time": "2025-03-25T17:12:00.832388Z",
     "start_time": "2025-03-25T17:11:59.540647Z"
    }
   },
   "cell_type": "code",
   "source": "test_df['Moc_KM'] = test_df.apply(lambda row: przypisz_moc(row, test_df), axis=1)",
   "id": "c02fdbdde0331e1f",
   "outputs": [],
   "execution_count": 723
  },
  {
   "metadata": {
    "ExecuteTime": {
     "end_time": "2025-03-25T17:12:00.948664Z",
     "start_time": "2025-03-25T17:12:00.944333Z"
    }
   },
   "cell_type": "code",
   "source": [
    "def przypisz_pojemnosc(row, df):\n",
    "    if pd.notna(row['Pojemnosc_cm3']):\n",
    "        return row['Pojemnosc_cm3']\n",
    "\n",
    "   \n",
    "    podobne = df[\n",
    "        (df['Model_pojazdu'] == row['Model_pojazdu']) &\n",
    "        (df['Moc_KM'] == row['Moc_KM']) &\n",
    "        (df['Pojemnosc_cm3'].notna())\n",
    "    ]\n",
    "\n",
    "    if podobne.empty:\n",
    "        return np.nan\n",
    "\n",
    "    \n",
    "    return podobne['Pojemnosc_cm3'].median()"
   ],
   "id": "9ae83e26376478d6",
   "outputs": [],
   "execution_count": 724
  },
  {
   "metadata": {
    "ExecuteTime": {
     "end_time": "2025-03-25T17:12:03.908547Z",
     "start_time": "2025-03-25T17:12:01.059761Z"
    }
   },
   "cell_type": "code",
   "source": "test_df['Pojemnosc_cm3'] = test_df.apply(lambda row: przypisz_pojemnosc(row, test_df), axis=1)",
   "id": "229d093e3fddb293",
   "outputs": [],
   "execution_count": 725
  },
  {
   "metadata": {
    "ExecuteTime": {
     "end_time": "2025-03-25T17:12:04.020058Z",
     "start_time": "2025-03-25T17:12:04.016438Z"
    }
   },
   "cell_type": "code",
   "source": [
    "import numpy as np\n",
    "\n",
    "def przypisz_drzwi(row, df):\n",
    "    if pd.notna(row['Liczba_drzwi']):\n",
    "        return row['Liczba_drzwi']\n",
    "\n",
    "    podobne = df[\n",
    "        (df['Typ_nadwozia'] == row['Typ_nadwozia']) &\n",
    "        (df['Model_pojazdu'] == row['Model_pojazdu']) &\n",
    "        (df['Liczba_drzwi'].notna())\n",
    "    ]\n",
    "\n",
    "    if podobne.empty:\n",
    "        return np.nan\n",
    "\n",
    "    return podobne['Liczba_drzwi'].mode().iloc[0]  # najczęstsza wartość"
   ],
   "id": "a481b16fba871129",
   "outputs": [],
   "execution_count": 726
  },
  {
   "metadata": {
    "ExecuteTime": {
     "end_time": "2025-03-25T17:12:08.426403Z",
     "start_time": "2025-03-25T17:12:04.132510Z"
    }
   },
   "cell_type": "code",
   "source": "test_df['Liczba_drzwi'] = test_df.apply(lambda row: przypisz_drzwi(row, test_df), axis=1)",
   "id": "7f0a78897927a601",
   "outputs": [],
   "execution_count": 727
  },
  {
   "metadata": {
    "ExecuteTime": {
     "end_time": "2025-03-25T17:12:09.070087Z",
     "start_time": "2025-03-25T17:12:08.552716Z"
    }
   },
   "cell_type": "code",
   "source": [
    "skrzynia_lookup = (\n",
    "    test_df[test_df['Skrzynia_biegow'].notna()]\n",
    "    .groupby(['Marka_pojazdu', 'Model_pojazdu', 'Pojemnosc_cm3'])['Skrzynia_biegow']\n",
    "    .agg(lambda x: x.mode().iloc[0])\n",
    "    .to_dict()\n",
    ")"
   ],
   "id": "fd4b20064e04e3f",
   "outputs": [],
   "execution_count": 728
  },
  {
   "metadata": {
    "ExecuteTime": {
     "end_time": "2025-03-25T17:12:09.212537Z",
     "start_time": "2025-03-25T17:12:09.180616Z"
    }
   },
   "cell_type": "code",
   "source": "print(test_df.isnull().sum())",
   "id": "ade0e235babee16f",
   "outputs": [
    {
     "name": "stdout",
     "output_type": "stream",
     "text": [
      "Waluta                   0\n",
      "Stan                     0\n",
      "Marka_pojazdu            0\n",
      "Model_pojazdu            0\n",
      "Rok_produkcji            0\n",
      "Przebieg_km              1\n",
      "Moc_KM                 133\n",
      "Pojemnosc_cm3          533\n",
      "Rodzaj_paliwa            0\n",
      "Naped                   13\n",
      "Skrzynia_biegow        163\n",
      "Typ_nadwozia             0\n",
      "Liczba_drzwi            10\n",
      "Kolor                    0\n",
      "Pierwszy_wlasciciel      0\n",
      "Lokalizacja_oferty       0\n",
      "Wyposazenie              0\n",
      "dtype: int64\n"
     ]
    }
   ],
   "execution_count": 729
  },
  {
   "metadata": {
    "ExecuteTime": {
     "end_time": "2025-03-25T17:12:12.528792Z",
     "start_time": "2025-03-25T17:12:09.321087Z"
    }
   },
   "cell_type": "code",
   "source": [
    "import ast\n",
    "\n",
    "def przeksztalc_na_liste(val):\n",
    "    if pd.isna(val):\n",
    "        return []\n",
    "    if isinstance(val, list):\n",
    "        return val\n",
    "    try:\n",
    "        return ast.literal_eval(val)\n",
    "    except:\n",
    "        return []\n",
    "\n",
    "test_df['Wyposazenie'] = test_df['Wyposazenie'].apply(przeksztalc_na_liste)\n"
   ],
   "id": "6228f7dba3d64946",
   "outputs": [],
   "execution_count": 730
  },
  {
   "metadata": {
    "ExecuteTime": {
     "end_time": "2025-03-25T17:12:12.759711Z",
     "start_time": "2025-03-25T17:12:12.656677Z"
    }
   },
   "cell_type": "code",
   "source": [
    "from itertools import chain\n",
    "\n",
    "wszystkie_wyposazenia = set(chain.from_iterable(test_df['Wyposazenie']))\n",
    "print(f\" Liczba unikalnych cech: {len(wszystkie_wyposazenia)}\")\n"
   ],
   "id": "74e707c4c586ea13",
   "outputs": [
    {
     "name": "stdout",
     "output_type": "stream",
     "text": [
      " Liczba unikalnych cech: 70\n"
     ]
    }
   ],
   "execution_count": 731
  },
  {
   "metadata": {
    "ExecuteTime": {
     "end_time": "2025-03-25T17:12:15.734725Z",
     "start_time": "2025-03-25T17:12:12.888602Z"
    }
   },
   "cell_type": "code",
   "source": [
    "for cecha in wszystkie_wyposazenia:\n",
    "    test_df[f'has_{cecha}'] = test_df['Wyposazenie'].apply(lambda x: int(cecha in x))\n"
   ],
   "id": "e459c1a6e29d6411",
   "outputs": [],
   "execution_count": 732
  },
  {
   "metadata": {
    "ExecuteTime": {
     "end_time": "2025-03-25T17:12:15.938197Z",
     "start_time": "2025-03-25T17:12:15.869846Z"
    }
   },
   "cell_type": "code",
   "source": "test_df.drop(columns=['Wyposazenie'], inplace=True)\n",
   "id": "49042a4a44394c1b",
   "outputs": [],
   "execution_count": 733
  },
  {
   "metadata": {
    "ExecuteTime": {
     "end_time": "2025-03-25T17:12:16.086178Z",
     "start_time": "2025-03-25T17:12:16.072508Z"
    }
   },
   "cell_type": "code",
   "source": "test_df.head()",
   "id": "9bf220e0dfce81dd",
   "outputs": [
    {
     "data": {
      "text/plain": [
       "  Waluta  Stan  Marka_pojazdu Model_pojazdu  Rok_produkcji  Przebieg_km  \\\n",
       "0    PLN   New  Mercedes-Benz           GLC           2021          1.0   \n",
       "1    PLN  Used           Ford        Mondeo           2008     202585.0   \n",
       "2    PLN  Used            BMW       Seria 5           2005     373000.0   \n",
       "3    PLN   New           Seat          Leon           2021         10.0   \n",
       "4    PLN  Used           Audi            A6           2014     150000.0   \n",
       "\n",
       "   Moc_KM  Pojemnosc_cm3 Rodzaj_paliwa            Naped  ...  \\\n",
       "0   163.0         1950.0        Diesel  4x4 (permanent)  ...   \n",
       "1   145.0         1999.0      Gasoline     Front wheels  ...   \n",
       "2   218.0         2993.0        Diesel      Rear wheels  ...   \n",
       "3   130.0         1498.0      Gasoline     Front wheels  ...   \n",
       "4   245.0         2967.0        Diesel  4x4 (permanent)  ...   \n",
       "\n",
       "  has_Four-zone air conditioning has_Rain sensor  has_Manual air conditioning  \\\n",
       "0                              0               1                            0   \n",
       "1                              0               0                            0   \n",
       "2                              0               0                            0   \n",
       "3                              0               1                            0   \n",
       "4                              1               1                            0   \n",
       "\n",
       "  has_Lane assistant  has_Air curtains has_Blind spot sensor  has_CD changer  \\\n",
       "0                  0                 1                     0               0   \n",
       "1                  0                 1                     0               0   \n",
       "2                  0                 1                     0               0   \n",
       "3                  0                 0                     0               0   \n",
       "4                  1                 1                     1               1   \n",
       "\n",
       "   has_AUX socket  has_ESP(stabilization of the track)  has_Parking assistant  \n",
       "0               1                                    1                      1  \n",
       "1               0                                    1                      0  \n",
       "2               0                                    1                      0  \n",
       "3               1                                    1                      1  \n",
       "4               1                                    1                      0  \n",
       "\n",
       "[5 rows x 86 columns]"
      ],
      "text/html": [
       "<div>\n",
       "<style scoped>\n",
       "    .dataframe tbody tr th:only-of-type {\n",
       "        vertical-align: middle;\n",
       "    }\n",
       "\n",
       "    .dataframe tbody tr th {\n",
       "        vertical-align: top;\n",
       "    }\n",
       "\n",
       "    .dataframe thead th {\n",
       "        text-align: right;\n",
       "    }\n",
       "</style>\n",
       "<table border=\"1\" class=\"dataframe\">\n",
       "  <thead>\n",
       "    <tr style=\"text-align: right;\">\n",
       "      <th></th>\n",
       "      <th>Waluta</th>\n",
       "      <th>Stan</th>\n",
       "      <th>Marka_pojazdu</th>\n",
       "      <th>Model_pojazdu</th>\n",
       "      <th>Rok_produkcji</th>\n",
       "      <th>Przebieg_km</th>\n",
       "      <th>Moc_KM</th>\n",
       "      <th>Pojemnosc_cm3</th>\n",
       "      <th>Rodzaj_paliwa</th>\n",
       "      <th>Naped</th>\n",
       "      <th>...</th>\n",
       "      <th>has_Four-zone air conditioning</th>\n",
       "      <th>has_Rain sensor</th>\n",
       "      <th>has_Manual air conditioning</th>\n",
       "      <th>has_Lane assistant</th>\n",
       "      <th>has_Air curtains</th>\n",
       "      <th>has_Blind spot sensor</th>\n",
       "      <th>has_CD changer</th>\n",
       "      <th>has_AUX socket</th>\n",
       "      <th>has_ESP(stabilization of the track)</th>\n",
       "      <th>has_Parking assistant</th>\n",
       "    </tr>\n",
       "  </thead>\n",
       "  <tbody>\n",
       "    <tr>\n",
       "      <th>0</th>\n",
       "      <td>PLN</td>\n",
       "      <td>New</td>\n",
       "      <td>Mercedes-Benz</td>\n",
       "      <td>GLC</td>\n",
       "      <td>2021</td>\n",
       "      <td>1.0</td>\n",
       "      <td>163.0</td>\n",
       "      <td>1950.0</td>\n",
       "      <td>Diesel</td>\n",
       "      <td>4x4 (permanent)</td>\n",
       "      <td>...</td>\n",
       "      <td>0</td>\n",
       "      <td>1</td>\n",
       "      <td>0</td>\n",
       "      <td>0</td>\n",
       "      <td>1</td>\n",
       "      <td>0</td>\n",
       "      <td>0</td>\n",
       "      <td>1</td>\n",
       "      <td>1</td>\n",
       "      <td>1</td>\n",
       "    </tr>\n",
       "    <tr>\n",
       "      <th>1</th>\n",
       "      <td>PLN</td>\n",
       "      <td>Used</td>\n",
       "      <td>Ford</td>\n",
       "      <td>Mondeo</td>\n",
       "      <td>2008</td>\n",
       "      <td>202585.0</td>\n",
       "      <td>145.0</td>\n",
       "      <td>1999.0</td>\n",
       "      <td>Gasoline</td>\n",
       "      <td>Front wheels</td>\n",
       "      <td>...</td>\n",
       "      <td>0</td>\n",
       "      <td>0</td>\n",
       "      <td>0</td>\n",
       "      <td>0</td>\n",
       "      <td>1</td>\n",
       "      <td>0</td>\n",
       "      <td>0</td>\n",
       "      <td>0</td>\n",
       "      <td>1</td>\n",
       "      <td>0</td>\n",
       "    </tr>\n",
       "    <tr>\n",
       "      <th>2</th>\n",
       "      <td>PLN</td>\n",
       "      <td>Used</td>\n",
       "      <td>BMW</td>\n",
       "      <td>Seria 5</td>\n",
       "      <td>2005</td>\n",
       "      <td>373000.0</td>\n",
       "      <td>218.0</td>\n",
       "      <td>2993.0</td>\n",
       "      <td>Diesel</td>\n",
       "      <td>Rear wheels</td>\n",
       "      <td>...</td>\n",
       "      <td>0</td>\n",
       "      <td>0</td>\n",
       "      <td>0</td>\n",
       "      <td>0</td>\n",
       "      <td>1</td>\n",
       "      <td>0</td>\n",
       "      <td>0</td>\n",
       "      <td>0</td>\n",
       "      <td>1</td>\n",
       "      <td>0</td>\n",
       "    </tr>\n",
       "    <tr>\n",
       "      <th>3</th>\n",
       "      <td>PLN</td>\n",
       "      <td>New</td>\n",
       "      <td>Seat</td>\n",
       "      <td>Leon</td>\n",
       "      <td>2021</td>\n",
       "      <td>10.0</td>\n",
       "      <td>130.0</td>\n",
       "      <td>1498.0</td>\n",
       "      <td>Gasoline</td>\n",
       "      <td>Front wheels</td>\n",
       "      <td>...</td>\n",
       "      <td>0</td>\n",
       "      <td>1</td>\n",
       "      <td>0</td>\n",
       "      <td>0</td>\n",
       "      <td>0</td>\n",
       "      <td>0</td>\n",
       "      <td>0</td>\n",
       "      <td>1</td>\n",
       "      <td>1</td>\n",
       "      <td>1</td>\n",
       "    </tr>\n",
       "    <tr>\n",
       "      <th>4</th>\n",
       "      <td>PLN</td>\n",
       "      <td>Used</td>\n",
       "      <td>Audi</td>\n",
       "      <td>A6</td>\n",
       "      <td>2014</td>\n",
       "      <td>150000.0</td>\n",
       "      <td>245.0</td>\n",
       "      <td>2967.0</td>\n",
       "      <td>Diesel</td>\n",
       "      <td>4x4 (permanent)</td>\n",
       "      <td>...</td>\n",
       "      <td>1</td>\n",
       "      <td>1</td>\n",
       "      <td>0</td>\n",
       "      <td>1</td>\n",
       "      <td>1</td>\n",
       "      <td>1</td>\n",
       "      <td>1</td>\n",
       "      <td>1</td>\n",
       "      <td>1</td>\n",
       "      <td>0</td>\n",
       "    </tr>\n",
       "  </tbody>\n",
       "</table>\n",
       "<p>5 rows × 86 columns</p>\n",
       "</div>"
      ]
     },
     "execution_count": 734,
     "metadata": {},
     "output_type": "execute_result"
    }
   ],
   "execution_count": 734
  },
  {
   "metadata": {},
   "cell_type": "markdown",
   "source": [
    "### 🔮 Generowanie predykcji na zbiorze testowym\n",
    "- Za pomocą wytrenowanego obiektu predictor wygenerowano predykcje wartości zmiennej Cena dla danych testowych (test_df). Wynik został zapisany w zmiennej predictions i stanowi przewidywane ceny pojazdów na podstawie cech wejściowych."
   ],
   "id": "1ecc9f0dbe980d8"
  },
  {
   "metadata": {
    "ExecuteTime": {
     "end_time": "2025-03-25T17:13:14.998748Z",
     "start_time": "2025-03-25T17:12:16.257442Z"
    }
   },
   "cell_type": "code",
   "source": "predictions = predictor.predict(test_df)",
   "id": "69dc315e76a8c795",
   "outputs": [],
   "execution_count": 735
  },
  {
   "metadata": {},
   "cell_type": "markdown",
   "source": [
    "### 📤 Generowanie i zapis pliku submission\n",
    "- Na podstawie predykcji modelu utworzono ramkę danych submission, zawierającą dwie kolumny: ID (ciąg numerów od 1 do liczby wierszy w zbiorze testowym) oraz Cena (przewidywana wartość). Następnie dane zostały zapisane do pliku submission.csv w formacie zgodnym z wymaganiami konkursu lub systemu oceny, bez indeksów w pliku wynikowym."
   ],
   "id": "6c1646deb7d64e0b"
  },
  {
   "metadata": {
    "ExecuteTime": {
     "end_time": "2025-03-25T17:14:08.704104Z",
     "start_time": "2025-03-25T17:13:15.070349Z"
    }
   },
   "cell_type": "code",
   "source": [
    "predictions = predictor.predict(test_df)\n",
    "\n",
    "\n",
    "submission = pd.DataFrame({\n",
    "    'ID': range(1, len(test_df) + 1),\n",
    "    'Cena': predictions\n",
    "})\n",
    "\n",
    "\n",
    "submission.to_csv('submission.csv', index=False)\n"
   ],
   "id": "8b9faaf55bcbe7e5",
   "outputs": [],
   "execution_count": 736
  },
  {
   "metadata": {
    "ExecuteTime": {
     "end_time": "2025-03-25T17:14:08.854423Z",
     "start_time": "2025-03-25T17:14:08.849473Z"
    }
   },
   "cell_type": "code",
   "source": "print(submission.head(10))\n",
   "id": "39c870ed0d7306dc",
   "outputs": [
    {
     "name": "stdout",
     "output_type": "stream",
     "text": [
      "   ID           Cena\n",
      "0   1  198110.437500\n",
      "1   2   17597.423828\n",
      "2   3   20746.951172\n",
      "3   4   98650.296875\n",
      "4   5   88726.289062\n",
      "5   6   10969.570312\n",
      "6   7    7707.739746\n",
      "7   8   17145.089844\n",
      "8   9   20566.845703\n",
      "9  10  487406.312500\n"
     ]
    }
   ],
   "execution_count": 738
  },
  {
   "metadata": {},
   "cell_type": "markdown",
   "source": [
    "### 🧮 Zaokrąglenie i zapis wyników predykcji\n",
    "- Wartości w kolumnie Cena zostały zaokrąglone do najbliższej liczby całkowitej i przekonwertowane na typ całkowity (int). Następnie zapisano je do pliku wyniki_predykcji_zaokraglone.csv, tworząc gotowy do użycia plik wynikowy z realistycznie zaokrąglonymi cenami pojazdów."
   ],
   "id": "f90ba6acd6a8576c"
  },
  {
   "metadata": {
    "ExecuteTime": {
     "end_time": "2025-03-25T17:14:09.050557Z",
     "start_time": "2025-03-25T17:14:08.988492Z"
    }
   },
   "cell_type": "code",
   "source": [
    "\n",
    "submission['Cena'] = submission['Cena'].round(0).astype(int)\n",
    "\n",
    "\n",
    "submission.to_csv('wyniki_predykcji_zaokraglone.csv', index=False)"
   ],
   "id": "7525c1f9b4a72f4d",
   "outputs": [],
   "execution_count": 739
  },
  {
   "metadata": {},
   "cell_type": "markdown",
   "source": [
    "### 🚨 Sprawdzenie występowania ujemnych wartości w predykcjach\n",
    "- Instrukcja sprawdza, czy w kolumnie Cena znajdują się jakiekolwiek wartości mniejsze niż 0. Wynik typu logicznego (True lub False) informuje, czy model wygenerował nieprawidłowe, ujemne ceny, które należy ewentualnie skorygować przed dalszym wykorzystaniem wyników."
   ],
   "id": "ec3b7be05f885fac"
  },
  {
   "metadata": {
    "ExecuteTime": {
     "end_time": "2025-03-25T17:14:09.188431Z",
     "start_time": "2025-03-25T17:14:09.183925Z"
    }
   },
   "cell_type": "code",
   "source": "print((submission['Cena'] < 0).any())\n",
   "id": "8c4398106e4fb09f",
   "outputs": [
    {
     "name": "stdout",
     "output_type": "stream",
     "text": [
      "False\n"
     ]
    }
   ],
   "execution_count": 740
  },
  {
   "metadata": {},
   "cell_type": "markdown",
   "source": [
    "### 💱 Przeliczenie przewidywanych cen z euro na złotówki\n",
    "- Dla obserwacji, w których waluta w zbiorze testowym to euro (EUR), wartości w kolumnie Cena zostały przeliczone na złotówki poprzez podzielenie przez kurs wymiany 1 EUR = 4.5654 PLN. Umożliwia to uzyskanie spójnych wyników predykcji w jednej walucie, zgodnych z formatem wymaganym w dalszej analizie lub ocenie."
   ],
   "id": "b0fe8db531510c01"
  },
  {
   "metadata": {
    "ExecuteTime": {
     "end_time": "2025-03-25T17:14:09.740946Z",
     "start_time": "2025-03-25T17:14:09.730798Z"
    }
   },
   "cell_type": "code",
   "source": [
    "\n",
    "kurs_euro = 4.5654\n",
    "submission['Cena'] = submission['Cena'].astype(float)\n",
    "submission.loc[test_df['Waluta'] == 'EUR', 'Cena'] /= kurs_euro\n"
   ],
   "id": "e53d80bc498c0545",
   "outputs": [],
   "execution_count": 744
  },
  {
   "metadata": {},
   "cell_type": "markdown",
   "source": [
    "### ✅ Finalne zaokrąglenie i zapis predykcji\n",
    "- Wartości w kolumnie Cena zostały ponownie zaokrąglone do pełnych liczb całkowitych i zapisane do pliku wyniki_predykcji_final2.csv. Plik ten stanowi ostateczną wersję wyników predykcji, gotową do przesłania lub wykorzystania w dalszej analizie."
   ],
   "id": "105b02920ade562d"
  },
  {
   "metadata": {
    "ExecuteTime": {
     "end_time": "2025-03-25T17:14:09.923720Z",
     "start_time": "2025-03-25T17:14:09.878908Z"
    }
   },
   "cell_type": "code",
   "source": [
    "submission['Cena'] = submission['Cena'].round(0).astype(int)\n",
    "submission.to_csv('wyniki_predykcji_final.csv', index=False)"
   ],
   "id": "1387eae84088c4df",
   "outputs": [],
   "execution_count": 745
  }
 ],
 "metadata": {
  "kernelspec": {
   "display_name": "Python 3",
   "language": "python",
   "name": "python3"
  },
  "language_info": {
   "codemirror_mode": {
    "name": "ipython",
    "version": 2
   },
   "file_extension": ".py",
   "mimetype": "text/x-python",
   "name": "python",
   "nbconvert_exporter": "python",
   "pygments_lexer": "ipython2",
   "version": "2.7.6"
  }
 },
 "nbformat": 4,
 "nbformat_minor": 5
}
